{
 "cells": [
  {
   "cell_type": "markdown",
   "metadata": {},
   "source": [
    "## Topic modeling on GTEx data (objective: generalized KL)\n",
    "\n",
    "### Data\n",
    "GTEx data is prepared using https://github.com/stephenslab/topics/blob/master/analysis/prepare_gtex.Rmd\n",
    "The size is `n=11688; p=55863`. \n",
    "\n",
    "\n",
    "### Results:\n",
    "```txt\n",
    "## K = 30\n",
    "model   time/s multinomll             poissonll (per count)         poissonll (add eps)\n",
    "skd.nmf 90950   -5507149657753.165      -Inf\n",
    "nnmf    21426   -5505629590840.375      -82.00236\n",
    "betanmf 5810    -5505838194582.725      -82.32185\n",
    "ccd     62175   -5505895039558.204      -82.41003\n",
    "flashier 8973 (prior: pn pn)\n",
    "flashier 6040  (prior: nn pn)\n",
    "flashier 12580 (prior: pn nn)\n",
    "\n",
    "## K = 20:\n",
    "model   time/s multinomll             poissonll (per count)         poissonll (add eps)\n",
    "skd.nmf 96137   -5529924942649.528      -Inf                            -119.5197\n",
    "nnmf    15406   -5527555982054.788      -115.5841\n",
    "betanmf 4429    -5527308834557.994      -115.2055\n",
    "ccd     43338   -5526679093542.194      -114.2419\n",
    "maptpx  44775   -5527136017322.085      -114.9409\n",
    "skd.lda 28504   -5538743477750.327      -132.7184       (perplexity = 1)\n",
    "rsvd    28\n",
    "```\n",
    "\n",
    "### Computation:\n",
    "See https://github.com/stephenslab/topics/tree/zihao/scripts\n",
    "* `K = 30`:`fit_gtex_{nnmf,maptpx,ccd,betanmf,skdnmf,skdlda,rsvd}_K30.sbatch`\n",
    "* `K = 20`: `fit_gtex_{nnmf,maptpx,ccd,betanmf,skdnmf,skdlda,rsvd}.sbatch`\n",
    "\n"
   ]
  },
  {
   "cell_type": "markdown",
   "metadata": {},
   "source": [
    "## Topic Modeling on GTEx-simulated data (objective: generalized KL)"
   ]
  },
  {
   "cell_type": "markdown",
   "metadata": {},
   "source": [
    "### Generate data\n",
    "I fit `NNLM::nnmf` on GTEx data (K = 20) and use the fitted factor and loading to generate new data, using the function below:\n",
    "\n",
    "```{r}\n",
    "## Input\n",
    "## A: factor [p,k]\n",
    "## W: loading [k,n]\n",
    "## Output\n",
    "## X: simulated data [p,n]\n",
    "generateForacle <- function(A,W, seed = 0){\n",
    "    set.seed(seed)\n",
    "    Lam = A %*% W\n",
    "    p = nrow(Lam)\n",
    "    n = ncol(Lam)\n",
    "    X = matrix(rpois(n*p,Lam), nrow = p)\n",
    "    return(X)\n",
    "}\n",
    "```\n",
    "See for details in\n",
    "https://github.com/zihao12/topics-simulation-experiments/script/generate_gtex_nnlm.R\n",
    "\n",
    "### Results:\n",
    "\n",
    "```txt\n",
    "model   time/s multinomll             poissonll (per count)         poissonll (add eps)\n",
    "oracle          -5535274871489.7959     -2.108910154212\n",
    "maptpx  46273   -5535547915113.8789     -2.527085324929\n",
    "nnmf    15581   -5535274339301.6719     -2.108086114508\n",
    "ccd     45358   -5.535653e+12           -Inf                    -2.689571\n",
    "betanmf 5364    -5.535566e+12           -2.554909\n",
    "skdnmf  34695   -5539070585721.606      -Inf                    -8.588246\n",
    "```\n",
    "\n",
    "See details in \n",
    "https://github.com/zihao12/topics-simulation-experiments/script, the batch files are:\n",
    "`fit_gtex_simulation_{nnmf,maptpx,ccd,betanmf,skdnmf,skdlda}.sbatch`"
   ]
  },
  {
   "cell_type": "markdown",
   "metadata": {},
   "source": [
    "## Topic Modeling on GTEx/GTEx-simulated data (objective: Frobenius norm)"
   ]
  },
  {
   "cell_type": "markdown",
   "metadata": {},
   "source": [
    "### paper and main idea\n",
    "I found an interesting method called `randomized nmf` that solves `NMF` with Frobenius norm as objective function (https://arxiv.org/abs/1711.02037). It shares similar idea with `rsvd`, projecting original data to a smaller subspace: \n",
    "$$ X \\approx Q B$$\n",
    "where $X \\in R^{m,n}$ is data, $Q \\in R^{m, k}$ is orthonormal, $B \\in R^{k,n}$.\n",
    "\n",
    "Then $$|X - W H|_F \\approx |QB - WH|_F = |QB - Q\\hat{W}H|_F = |B - \\hat{W}H|_F$$\n",
    "where $W = Q\\hat{W}$. \n",
    "\n",
    "Then we only need to solve the small problem (data becomes `k,n` in dimension), the project $\\hat{W}$ back to $W$. The small problem is solved using HALS (Hierarchical Alternating Least Square). \n",
    "\n",
    "(Software: https://github.com/erichson/ristretto)"
   ]
  },
  {
   "cell_type": "markdown",
   "metadata": {},
   "source": [
    "### Experiments:\n",
    "\n",
    "#### Small scale experiment:\n",
    "https://zihao12.github.io/topics-simulation-experiments/Investigate_rnmf_least_square.html\n",
    "\n",
    "https://zihao12.github.io/topics-simulation-experiments/Investigate_rnmf_poisson.html"
   ]
  },
  {
   "cell_type": "markdown",
   "metadata": {},
   "source": [
    "#### GTEx and GTEx-simulated data (call it `rnmf`), and compare it with `nnmf`. \n",
    "##### GTEx data\n",
    "```txt\n",
    "method  (rel)tol       time   n_iter  mse             multinom        poisson(add eps)\n",
    "rnmf    1e-04           115     724     22756690.7955   -5583491994252  -218.4602\n",
    "nnmf    9e-07           7409    200     22744071.4794   -5583603643351  -218.9064\n",
    "```\n",
    "\n",
    "##### GTEx-simulated data\n",
    "```txt\n",
    "method  (rel)tol        time   n_iter  mse             multinom        poisson(add eps)\n",
    "rnmf    1e-04            106   323     1178.5           -5535304227626  -2.161012\n",
    "nnmf    0.02            7494    200    176312.8         -5541676793230  -12.78057   \n",
    "```\n",
    "(`nnmf` in the second case is probably not initialized properly)"
   ]
  },
  {
   "cell_type": "markdown",
   "metadata": {},
   "source": [
    "## Some questions"
   ]
  },
  {
   "cell_type": "markdown",
   "metadata": {},
   "source": [
    "### How real is the simulated data?\n",
    "* The mean poisson loglikelihood in GTEx and in GTEx-simulated data are very different, but the median of the poisson loglikelihood are close. I looked at the poisson loglikelihood more closely here:\n",
    "https://zihao12.github.io/topics-simulation-experiments/Investigate_poisson_ll_matrix.html\n",
    "\n",
    "It seems that bad fits are wide spread across all features and samples. Are the bad fits due to the model or optimization? "
   ]
  },
  {
   "cell_type": "markdown",
   "metadata": {},
   "source": [
    "### Is it Coincidence that `nnmf` fits best when data is simulated from its `F,L`\n",
    "\n",
    "We can see that `nnmf` fit on GTEx-simulated data is the only one that beats oracle, while other methods are lagged behind. This advantage is not seen in real GTEx data. It is quite dubious since the data is generated from `F,L` from `nnmf` fit ..."
   ]
  },
  {
   "cell_type": "markdown",
   "metadata": {},
   "source": [
    "### Can we use `rnmf` in generalized KL objective?\n",
    "\n",
    "* `rnmf`  seems to be significantly faster than most NMF methods. Maybe we can adapt it to solve KL directly. But we may need $Q$ to be slightly different. Orthonormal $Q$ does not change the Frobenius norm, but will change generalized KL divergence. In order to reduce to small problem, we might want to the equation above to hold under generalized KL. \n",
    "\n",
    "* From small generated data, we can see `rnmf` decreases generalized KL as it optimizes Frobenius norm when tolerance is high (say 1e-04). Maybe we can use it to initialize other algorithms?"
   ]
  }
 ],
 "metadata": {
  "kernelspec": {
   "display_name": "R",
   "language": "R",
   "name": "ir"
  },
  "language_info": {
   "codemirror_mode": "r",
   "file_extension": ".r",
   "mimetype": "text/x-r-source",
   "name": "R",
   "pygments_lexer": "r",
   "version": "3.5.1"
  }
 },
 "nbformat": 4,
 "nbformat_minor": 2
}
