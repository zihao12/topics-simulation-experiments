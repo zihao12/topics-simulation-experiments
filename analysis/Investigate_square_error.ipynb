{
 "cells": [
  {
   "cell_type": "markdown",
   "metadata": {},
   "source": [
    "## Goal\n",
    "The mean MSE of GTEx and GTEx-simulation seems to be very big. I want to find out what is going on...\n",
    "\n",
    "## Some findings\n",
    "* For GTEx The worst fit contribute `176723` to the MSE (average!) \n",
    "* This is probably because of some very big counts: our model fit to its scale but still the difference is huge\n",
    "* The hist of MSE across genes follow similar shape as that of counts across genes (basically big counts correspond to bad fits)"
   ]
  },
  {
   "cell_type": "code",
   "execution_count": 1,
   "metadata": {},
   "outputs": [],
   "source": [
    "import pickle\n",
    "import numpy as np\n",
    "from matplotlib import pyplot as plt\n"
   ]
  },
  {
   "cell_type": "code",
   "execution_count": 2,
   "metadata": {},
   "outputs": [],
   "source": [
    "def MSE_matrix(X,Lam):\n",
    "    return np.square((X - Lam))"
   ]
  },
  {
   "cell_type": "markdown",
   "metadata": {},
   "source": [
    "## GTEx-sim"
   ]
  },
  {
   "cell_type": "code",
   "execution_count": 4,
   "metadata": {},
   "outputs": [],
   "source": [
    "data_dir = \"../../topics-simulation-bigdata/output/\""
   ]
  },
  {
   "cell_type": "code",
   "execution_count": 6,
   "metadata": {},
   "outputs": [
    {
     "data": {
      "text/plain": [
       "(11688, 55863)"
      ]
     },
     "execution_count": 6,
     "metadata": {},
     "output_type": "execute_result"
    }
   ],
   "source": [
    "read_counts_file   = \"gtex_simulation_nnlm.csv\"\n",
    "gtex_sim = np.loadtxt(open(data_dir + read_counts_file, \"rb\"), delimiter=\",\", skiprows=0)\n",
    "gtex_sim.shape"
   ]
  },
  {
   "cell_type": "code",
   "execution_count": 5,
   "metadata": {},
   "outputs": [],
   "source": [
    "loadings_file   = \"gtexsim_F_loadings_rnmfhals.csv\"\n",
    "factors_file   = \"gtexsim_F_factors_rnmfhals.csv\"\n",
    "F_sim = np.loadtxt(open(data_dir + factors_file, \"rb\"), delimiter=\",\", skiprows=0)\n",
    "L_sim = np.loadtxt(open(data_dir + loadings_file, \"rb\"), delimiter=\",\", skiprows=0)"
   ]
  },
  {
   "cell_type": "code",
   "execution_count": 7,
   "metadata": {},
   "outputs": [],
   "source": [
    "Lam_sim = F_sim.dot(L_sim.T)\n",
    "mse_rnmf_sim = MSE_matrix(gtex_sim.T, Lam_sim)"
   ]
  },
  {
   "cell_type": "code",
   "execution_count": 8,
   "metadata": {},
   "outputs": [
    {
     "data": {
      "text/plain": [
       "1015.6212375593987"
      ]
     },
     "execution_count": 8,
     "metadata": {},
     "output_type": "execute_result"
    }
   ],
   "source": [
    "np.mean(mse_rnmf_sim)"
   ]
  },
  {
   "cell_type": "code",
   "execution_count": 9,
   "metadata": {},
   "outputs": [
    {
     "data": {
      "text/plain": [
       "0.5441848785452285"
      ]
     },
     "execution_count": 9,
     "metadata": {},
     "output_type": "execute_result"
    }
   ],
   "source": [
    "np.median(mse_rnmf_sim)"
   ]
  },
  {
   "cell_type": "code",
   "execution_count": 10,
   "metadata": {},
   "outputs": [
    {
     "data": {
      "text/plain": [
       "47663669.388004206"
      ]
     },
     "execution_count": 10,
     "metadata": {},
     "output_type": "execute_result"
    }
   ],
   "source": [
    "np.max(mse_rnmf_sim)"
   ]
  },
  {
   "cell_type": "code",
   "execution_count": 11,
   "metadata": {},
   "outputs": [],
   "source": [
    "ind_sim = np.unravel_index(np.argsort(mse_rnmf_sim, axis=None), mse_rnmf_sim.shape)"
   ]
  },
  {
   "cell_type": "code",
   "execution_count": 12,
   "metadata": {},
   "outputs": [
    {
     "data": {
      "text/plain": [
       "array([ 3780467.,  3503863.,  2856429.,  7491775.,  2093253.,  4937994.,\n",
       "        4776184.,  3803890.,  4021534., 19546623.])"
      ]
     },
     "execution_count": 12,
     "metadata": {},
     "output_type": "execute_result"
    }
   ],
   "source": [
    "greatest = 10\n",
    "gtex_sim.T[ind_sim[0][-greatest:],ind_sim[1][-greatest:]]"
   ]
  },
  {
   "cell_type": "code",
   "execution_count": 13,
   "metadata": {},
   "outputs": [
    {
     "data": {
      "text/plain": [
       "array([ 3775418.62837917,  3498759.77816944,  2851312.36781674,\n",
       "        7496987.32375005,  2087971.63939819,  4943356.95057257,\n",
       "        4781550.23246389,  3798119.59865696,  4028240.9107711 ,\n",
       "       19539719.11200931])"
      ]
     },
     "execution_count": 13,
     "metadata": {},
     "output_type": "execute_result"
    }
   ],
   "source": [
    "Lam_sim[ind_sim[0][-greatest:],ind_sim[1][-greatest:]]"
   ]
  },
  {
   "cell_type": "markdown",
   "metadata": {},
   "source": [
    "## GTEx "
   ]
  },
  {
   "cell_type": "code",
   "execution_count": 14,
   "metadata": {},
   "outputs": [
    {
     "data": {
      "text/plain": [
       "(11688, 55863)"
      ]
     },
     "execution_count": 14,
     "metadata": {},
     "output_type": "execute_result"
    }
   ],
   "source": [
    "data_dir           = \"../../topics_bigdata/output/\"\n",
    "read_counts_file   = \"gtex.csv\"\n",
    "gtex = np.loadtxt(open(data_dir + read_counts_file, \"rb\"), delimiter=\",\", skiprows=0)\n",
    "gtex.shape"
   ]
  },
  {
   "cell_type": "code",
   "execution_count": 15,
   "metadata": {},
   "outputs": [],
   "source": [
    "loadings_file   = \"gtex_F_loadings_rnmfhals.csv\"\n",
    "factors_file   = \"gtex_F_factors_rnmfhals.csv\"\n",
    "F_gtex = np.loadtxt(open(data_dir + factors_file, \"rb\"), delimiter=\",\", skiprows=0)\n",
    "L_gtex = np.loadtxt(open(data_dir + loadings_file, \"rb\"), delimiter=\",\", skiprows=0)\n",
    "Lam_gtex = F_gtex.dot(L_gtex.T)"
   ]
  },
  {
   "cell_type": "code",
   "execution_count": 16,
   "metadata": {},
   "outputs": [],
   "source": [
    "mse_rnmf = MSE_matrix(gtex.T, Lam_gtex)"
   ]
  },
  {
   "cell_type": "code",
   "execution_count": 17,
   "metadata": {},
   "outputs": [
    {
     "data": {
      "text/plain": [
       "22745666.683582906"
      ]
     },
     "execution_count": 17,
     "metadata": {},
     "output_type": "execute_result"
    }
   ],
   "source": [
    "mse_rnmf.mean()"
   ]
  },
  {
   "cell_type": "code",
   "execution_count": 18,
   "metadata": {},
   "outputs": [
    {
     "data": {
      "text/plain": [
       "3.5480157310621836"
      ]
     },
     "execution_count": 18,
     "metadata": {},
     "output_type": "execute_result"
    }
   ],
   "source": [
    "np.median(mse_rnmf)"
   ]
  },
  {
   "cell_type": "code",
   "execution_count": 19,
   "metadata": {},
   "outputs": [
    {
     "data": {
      "text/plain": [
       "115387511268542.1"
      ]
     },
     "execution_count": 19,
     "metadata": {},
     "output_type": "execute_result"
    }
   ],
   "source": [
    "np.max(mse_rnmf)"
   ]
  },
  {
   "cell_type": "code",
   "execution_count": 20,
   "metadata": {},
   "outputs": [],
   "source": [
    "ind_gtex = np.unravel_index(np.argsort(mse_rnmf, axis=None), mse_rnmf.shape)"
   ]
  },
  {
   "cell_type": "markdown",
   "metadata": {},
   "source": [
    "#### The worst ten fits\n",
    "Below show counts in GTEx and their corresponding fitted poisson mean"
   ]
  },
  {
   "cell_type": "code",
   "execution_count": 21,
   "metadata": {},
   "outputs": [
    {
     "data": {
      "text/plain": [
       "array([ 5174470.,  5302598.,  5880654.,  5748742.,  5995900., 24666577.,\n",
       "        1092863.,  7553520.,   611312., 12917097.])"
      ]
     },
     "execution_count": 21,
     "metadata": {},
     "output_type": "execute_result"
    }
   ],
   "source": [
    "greatest = 10\n",
    "gtex.T[ind_gtex[0][-greatest:],ind_gtex[1][-greatest:]]"
   ]
  },
  {
   "cell_type": "code",
   "execution_count": 22,
   "metadata": {},
   "outputs": [
    {
     "data": {
      "text/plain": [
       "array([  875334.68479551,   906000.01076567,  1399255.52278474,\n",
       "        1039241.8229663 ,  1082657.09175621, 19459956.14731023,\n",
       "        6300610.14044819,   658557.36816052,  8057828.81888516,\n",
       "        2175239.09419329])"
      ]
     },
     "execution_count": 22,
     "metadata": {},
     "output_type": "execute_result"
    }
   ],
   "source": [
    "Lam_gtex[ind_gtex[0][-greatest:],ind_gtex[1][-greatest:]]"
   ]
  },
  {
   "cell_type": "code",
   "execution_count": 62,
   "metadata": {},
   "outputs": [
    {
     "data": {
      "text/plain": [
       "176723.51811115595"
      ]
     },
     "execution_count": 62,
     "metadata": {},
     "output_type": "execute_result"
    }
   ],
   "source": [
    "np.square(gtex.T[ind_gtex[0][-1],ind_gtex[1][-1]] - Lam_gtex[ind_gtex[0][-1],ind_gtex[1][-1]])/(gtex.shape[0]*gtex.shape[1])"
   ]
  },
  {
   "cell_type": "markdown",
   "metadata": {},
   "source": [
    "## Comment:\n",
    "The worst fit can contribute `176723` to MSE (average over n*p)!"
   ]
  },
  {
   "cell_type": "markdown",
   "metadata": {},
   "source": [
    "#### best ten fits\n",
    "Below show counts in GTEx and their corresponding fitted poisson mean"
   ]
  },
  {
   "cell_type": "code",
   "execution_count": 23,
   "metadata": {},
   "outputs": [
    {
     "data": {
      "text/plain": [
       "array([0., 0., 0., 0., 0., 0., 0., 0., 0., 0.])"
      ]
     },
     "execution_count": 23,
     "metadata": {},
     "output_type": "execute_result"
    }
   ],
   "source": [
    "smallest = 10\n",
    "gtex.T[ind_gtex[0][:smallest],ind_gtex[1][:smallest]]"
   ]
  },
  {
   "cell_type": "code",
   "execution_count": 24,
   "metadata": {},
   "outputs": [
    {
     "data": {
      "text/plain": [
       "array([0., 0., 0., 0., 0., 0., 0., 0., 0., 0.])"
      ]
     },
     "execution_count": 24,
     "metadata": {},
     "output_type": "execute_result"
    }
   ],
   "source": [
    "Lam_gtex[ind_gtex[0][:smallest],ind_gtex[1][:smallest]]"
   ]
  },
  {
   "cell_type": "markdown",
   "metadata": {},
   "source": [
    "## Comment:\n",
    "The worst fit happen when the counts are pretty large. Our model manages to capture the strong signal (often in the same scale),but the loss is still great. So great that a single worst fit contributes `176723` to the MSE (average over n,p)!!!"
   ]
  },
  {
   "cell_type": "markdown",
   "metadata": {},
   "source": [
    "## What are the bad fits in GTEx?\n",
    "\n",
    "Let's look at the count with worst fit and see if it is an outlier"
   ]
  },
  {
   "cell_type": "code",
   "execution_count": 58,
   "metadata": {},
   "outputs": [
    {
     "data": {
      "text/plain": [
       "27195665.0"
      ]
     },
     "execution_count": 58,
     "metadata": {},
     "output_type": "execute_result"
    }
   ],
   "source": [
    "gtex.max()"
   ]
  },
  {
   "cell_type": "code",
   "execution_count": 60,
   "metadata": {},
   "outputs": [
    {
     "name": "stdout",
     "output_type": "stream",
     "text": [
      "worst fit has count: 12917097.0\n",
      "worst fit is gene: 5573\n",
      "worst fit is sample: 8735\n"
     ]
    }
   ],
   "source": [
    "print(\"worst fit has count: \"+ str(gtex.T[ind_gtex[0][-1],ind_gtex[1][-1]]))\n",
    "print(\"worst fit is gene: \"+str(ind_gtex[0][-1]))\n",
    "print(\"worst fit is sample: \"+str(ind_gtex[1][-1]))"
   ]
  },
  {
   "cell_type": "code",
   "execution_count": 49,
   "metadata": {},
   "outputs": [
    {
     "data": {
      "text/plain": [
       "Text(0.5, 1.0, 'hist of gene that has worst fit')"
      ]
     },
     "execution_count": 49,
     "metadata": {},
     "output_type": "execute_result"
    },
    {
     "data": {
      "image/png": "[encoded data removed]",
      "text/plain": [
       "<Figure size 432x288 with 1 Axes>"
      ]
     },
     "metadata": {},
     "output_type": "display_data"
    }
   ],
   "source": [
    "plt.hist(np.log10(gtex[:,ind_gtex[0][-1]] + np.finfo(float).eps), density=True, bins = 100)\n",
    "plt.xlabel(\"log of counts\")\n",
    "plt.title(\"hist of gene that has worst fit\")"
   ]
  },
  {
   "cell_type": "code",
   "execution_count": 61,
   "metadata": {},
   "outputs": [
    {
     "data": {
      "text/plain": [
       "Text(0.5, 1.0, 'hist of sample that has worst fit')"
      ]
     },
     "execution_count": 61,
     "metadata": {},
     "output_type": "execute_result"
    },
    {
     "data": {
      "image/png": "[encoded data removed]",
      "text/plain": [
       "<Figure size 432x288 with 1 Axes>"
      ]
     },
     "metadata": {},
     "output_type": "display_data"
    }
   ],
   "source": [
    "plt.hist(np.log10(gtex[ind_gtex[1][-1],:] + np.finfo(float).eps), density=True, bins = 100)\n",
    "plt.xlabel(\"log of counts\")\n",
    "plt.title(\"hist of sample that has worst fit\")"
   ]
  },
  {
   "cell_type": "markdown",
   "metadata": {},
   "source": [
    "### Comment:\n",
    "The worst count seems to be an outlier for that gene. \n",
    "Maybe we should remove those outliers? Or as in text mining, remove most frequent and least frequent words?"
   ]
  },
  {
   "cell_type": "markdown",
   "metadata": {},
   "source": [
    "## Average MSE for genes"
   ]
  },
  {
   "cell_type": "code",
   "execution_count": 76,
   "metadata": {},
   "outputs": [],
   "source": [
    "mse_ave_gene = mse_rnmf.mean(axis = 1)"
   ]
  },
  {
   "cell_type": "code",
   "execution_count": 77,
   "metadata": {},
   "outputs": [
    {
     "data": {
      "text/plain": [
       "Text(0.5, 1.0, 'hist of average MSE for genes')"
      ]
     },
     "execution_count": 77,
     "metadata": {},
     "output_type": "execute_result"
    },
    {
     "data": {
      "image/png": "[encoded data removed]",
      "text/plain": [
       "<Figure size 432x288 with 1 Axes>"
      ]
     },
     "metadata": {},
     "output_type": "display_data"
    }
   ],
   "source": [
    "p = plt.hist(np.log10(mse_ave_gene), bins = 100)\n",
    "plt.xlabel(\"log of average MSE\")\n",
    "plt.title(\"hist of average MSE for genes\")"
   ]
  },
  {
   "cell_type": "code",
   "execution_count": 81,
   "metadata": {},
   "outputs": [
    {
     "data": {
      "text/plain": [
       "Text(0.5, 1.0, 'hist of log of counts in GTEx across genes')"
      ]
     },
     "execution_count": 81,
     "metadata": {},
     "output_type": "execute_result"
    },
    {
     "data": {
      "image/png": "[encoded data removed]",
      "text/plain": [
       "<Figure size 432x288 with 1 Axes>"
      ]
     },
     "metadata": {},
     "output_type": "display_data"
    }
   ],
   "source": [
    "p = plt.hist(np.log10(gtex.mean(axis = 0)), bins = 100)\n",
    "plt.xlabel(\"log of counts\")\n",
    "plt.title(\"hist of log of counts in GTEx across genes\")"
   ]
  },
  {
   "cell_type": "markdown",
   "metadata": {},
   "source": [
    "## Average MSE for samples"
   ]
  },
  {
   "cell_type": "code",
   "execution_count": 78,
   "metadata": {},
   "outputs": [],
   "source": [
    "mse_ave_sample = mse_rnmf.mean(axis = 0)"
   ]
  },
  {
   "cell_type": "code",
   "execution_count": 79,
   "metadata": {},
   "outputs": [
    {
     "data": {
      "text/plain": [
       "Text(0.5, 1.0, 'hist of average MSE for samples')"
      ]
     },
     "execution_count": 79,
     "metadata": {},
     "output_type": "execute_result"
    },
    {
     "data": {
      "image/png": "[encoded data removed]",
      "text/plain": [
       "<Figure size 432x288 with 1 Axes>"
      ]
     },
     "metadata": {},
     "output_type": "display_data"
    }
   ],
   "source": [
    "p = plt.hist(np.log10(mse_ave_sample), bins = 100)\n",
    "plt.xlabel(\"log of average MSE\")\n",
    "plt.title(\"hist of average MSE for samples\")"
   ]
  },
  {
   "cell_type": "code",
   "execution_count": 82,
   "metadata": {},
   "outputs": [
    {
     "data": {
      "text/plain": [
       "Text(0.5, 1.0, 'hist of log of counts in GTEx across samples')"
      ]
     },
     "execution_count": 82,
     "metadata": {},
     "output_type": "execute_result"
    },
    {
     "data": {
      "image/png": "[encoded data removed]",
      "text/plain": [
       "<Figure size 432x288 with 1 Axes>"
      ]
     },
     "metadata": {},
     "output_type": "display_data"
    }
   ],
   "source": [
    "p = plt.hist(np.log10(gtex.mean(axis = 1)), bins = 100)\n",
    "plt.xlabel(\"log of counts\")\n",
    "plt.title(\"hist of log of counts in GTEx across samples\")"
   ]
  },
  {
   "cell_type": "markdown",
   "metadata": {},
   "source": [
    "###  genes from the worst 1000 fit"
   ]
  },
  {
   "cell_type": "code",
   "execution_count": 70,
   "metadata": {},
   "outputs": [
    {
     "name": "stdout",
     "output_type": "stream",
     "text": [
      "[   32   371   665  1128  3090  3151  3154  3447  3959  4386  5234  5573\n",
      "  6284  6392  6486  6487  6489  6577  7718  8111  8212  8651  8747  9710\n",
      "  9830  9865 11344 12099 13187 13222 14256 14257 14258 16607 16966 16984\n",
      " 17845 18500 18624 20199 20475 21077 21080 21891 21918 22488 22543 22816\n",
      " 23587 23695 25335 26925 27138 29015 29018 29162 29489 29654 29946 30005\n",
      " 30007 30051 30444 30527 30530 31338 31554 32503 33312 34129 34132 34136\n",
      " 34145 34146 34154 34155 34168 34634 35256 36386 37309 37311 38468 38499\n",
      " 38627 38761 38887 38899 38902 38906 41095 41304 41517 41712 42899 42961\n",
      " 43700 43701 44744 44939 45160 45477 45989 47097 47864 48698 48729 49157\n",
      " 49284 49285 49920 49921 50548 50677 54487 55240 55827 55831 55835 55844\n",
      " 55847 55848 55853 55857 55860]\n",
      "They are from 125 genes\n"
     ]
    }
   ],
   "source": [
    "print(np.unique(ind_gtex[0][-1000:]))\n",
    "print(\"They are from {} genes\".format(np.unique(ind_gtex[0][-1000:]).shape[0]))"
   ]
  },
  {
   "cell_type": "markdown",
   "metadata": {},
   "source": [
    "### Samples from the worst 100 fit"
   ]
  },
  {
   "cell_type": "code",
   "execution_count": 71,
   "metadata": {},
   "outputs": [
    {
     "name": "stdout",
     "output_type": "stream",
     "text": [
      "[   29    47   112   137   346   468   621   673   751   803   805   813\n",
      "   828   829   834   839   844   847   855   856   859   862   865   866\n",
      "   867   868   869   878   882   885   891   892   903   908   909   910\n",
      "   911   923   929   940   942   949   952   956   958   961   962   964\n",
      "   969   971   972   975   978   985  1288  1398  1401  1485  1616  1633\n",
      "  1930  2014  2073  2152  2167  2209  2226  2228  2404  2574  2714  2921\n",
      "  2927  2965  2984  2986  3012  3019  3033  3039  3056  3069  3084  3116\n",
      "  3131  3176  3297  3330  3342  3374  3409  3413  3416  3423  3424  3430\n",
      "  3434  3444  3445  3455  3459  3464  3468  3472  3481  3483  3484  3492\n",
      "  3493  3507  3512  3513  3519  3525  3556  3571  3576  3580  3581  3719\n",
      "  3743  3800  3834  3874  3886  3894  3904  3923  3959  3970  3971  3972\n",
      "  4045  4079  4181  4185  4237  4263  4270  4287  4299  4406  4433  4560\n",
      "  4632  4645  4672  4675  4681  4697  4703  4733  4825  5020  5114  5145\n",
      "  5217  5218  5237  5241  5246  5295  5309  5331  5332  5345  5417  5446\n",
      "  5456  5457  5467  5544  5661  5731  5811  5895  5900  5908  5929  5942\n",
      "  5943  5945  5950  5957  5963  5970  5977  5992  5996  5999  6004  6007\n",
      "  6017  6022  6030  6034  6037  6042  6051  6059  6064  6072  6095  6103\n",
      "  6105  6115  6125  6132  6154  6168  6174  6185  6192  6195  6196  6203\n",
      "  6223  6224  6226  6233  6246  6249  6267  6277  6282  6284  6291  6307\n",
      "  6309  6319  6323  6327  6341  6353  6357  6363  6364  6370  6371  6372\n",
      "  6373  6375  6376  6379  6380  6384  6385  6391  6392  6394  6403  6413\n",
      "  6416  6419  6431  6435  6437  6438  6439  6447  6451  6458  6459  6461\n",
      "  6462  6465  6477  6480  6492  6498  6502  6508  6509  6512  6514  6518\n",
      "  6520  6521  6522  6530  6536  6538  6540  6546  6551  6553  6556  6564\n",
      "  6565  6566  6567  6570  6571  6582  6588  6590  6592  6593  6594  6602\n",
      "  6607  6608  6609  6611  6613  6614  6623  6625  6626  6627  6628  6633\n",
      "  6636  6641  6646  6654  6657  6664  6667  6669  6671  6672  6673  6674\n",
      "  6675  6677  6679  6680  6682  6691  6693  6694  6695  6699  6703  6704\n",
      "  6708  6710  6718  6733  6736  6745  6761  6765  6773  6775  6776  6778\n",
      "  6795  6796  6802  6817  6825  6855  6860  6861  6864  6867  6873  6891\n",
      "  6896  6898  6899  6900  6922  6925  6927  6932  6940  6960  6964  6965\n",
      "  6974  6975  6977  6981  6986  6993  6996  6999  7029  7030  7031  7032\n",
      "  7035  7036  7039  7041  7051  7052  7054  7056  7069  7082  7089  7093\n",
      "  7094  7096  7097  7099  7101  7118  7119  7121  7139  7143  7144  7150\n",
      "  7152  7166  7167  7172  7178  7182  7184  7191  7211  7214  7219  7220\n",
      "  7232  7277  7287  7290  7300  7324  7347  7356  7436  7477  7481  7498\n",
      "  7537  7566  7579  7586  7591  7596  7608  7647  7660  7666  7685  7702\n",
      "  7716  7730  7742  7756  7772  7793  7955  8054  8348  8351  8352  8353\n",
      "  8356  8361  8363  8365  8368  8369  8378  8379  8380  8382  8392  8395\n",
      "  8396  8397  8402  8404  8406  8408  8409  8413  8415  8420  8423  8428\n",
      "  8431  8433  8435  8447  8448  8449  8450  8451  8453  8456  8457  8458\n",
      "  8461  8472  8476  8478  8489  8508  8519  8521  8529  8540  8548  8555\n",
      "  8556  8561  8562  8566  8576  8595  8596  8597  8598  8599  8602  8605\n",
      "  8610  8612  8613  8616  8617  8618  8619  8620  8621  8624  8626  8629\n",
      "  8633  8634  8636  8637  8639  8640  8643  8646  8647  8648  8649  8652\n",
      "  8653  8654  8656  8657  8658  8659  8660  8662  8663  8664  8668  8670\n",
      "  8671  8672  8673  8674  8675  8677  8680  8685  8686  8689  8691  8695\n",
      "  8697  8699  8702  8705  8707  8709  8711  8712  8713  8715  8717  8720\n",
      "  8722  8723  8726  8728  8729  8732  8735  8736  8737  8738  8740  8741\n",
      "  8743  8744  8745  8747  8748  8753  8754  8755  8757  8760  8761  8763\n",
      "  8765  8766  8774  8775  8824  8835  8852  8861  8863  8879  8904  8911\n",
      "  8912  8913  8914  8921  9185  9316  9331  9507  9532  9556  9607  9751\n",
      "  9782  9820  9872  9956  9960  9980  9983  9994 10001 10020 10027 10033\n",
      " 10062 10064 10066 10077 10079 10129 10140 10145 10158 10161 10162 10176\n",
      " 10194 10215 10222 10224 10226 10237 10245 10250 10287 10298 10315 10321\n",
      " 10323 10326 10328 10338 10375 10769 10947 10996 11203 11205 11283 11287\n",
      " 11288 11289 11293 11304 11306 11316 11326 11346 11352 11354 11359 11360\n",
      " 11362 11367 11375 11378 11380 11393 11412 11421 11428 11437 11448 11455\n",
      " 11456 11474 11480 11498 11527 11529 11536 11540 11550 11558 11559 11563\n",
      " 11566 11569 11573 11574 11576 11578 11586 11587 11591 11603 11605 11607\n",
      " 11608 11612 11617 11619 11624 11628 11629 11630 11633 11636 11637 11638\n",
      " 11641 11643 11651 11664 11669 11678 11683 11684]\n",
      "They are from 740 samples\n"
     ]
    }
   ],
   "source": [
    "print(np.unique(ind_gtex[1][-1000:]))\n",
    "print(\"They are from {} samples\".format(np.unique(ind_gtex[1][-1000:]).shape[0]))"
   ]
  },
  {
   "cell_type": "markdown",
   "metadata": {},
   "source": [
    "### Comment: it seems there are a few genes that are fitted poorly"
   ]
  },
  {
   "cell_type": "markdown",
   "metadata": {},
   "source": [
    "### Q?\n",
    "Is it a coincidence that many \"bad\" samples are close to each other in sequence?"
   ]
  },
  {
   "cell_type": "code",
   "execution_count": null,
   "metadata": {},
   "outputs": [],
   "source": []
  }
 ],
 "metadata": {
  "kernelspec": {
   "display_name": "Python 3",
   "language": "python",
   "name": "python3"
  },
  "language_info": {
   "codemirror_mode": {
    "name": "ipython",
    "version": 3
   },
   "file_extension": ".py",
   "mimetype": "text/x-python",
   "name": "python",
   "nbconvert_exporter": "python",
   "pygments_lexer": "ipython3",
   "version": "3.6.8"
  }
 },
 "nbformat": 4,
 "nbformat_minor": 2
}
