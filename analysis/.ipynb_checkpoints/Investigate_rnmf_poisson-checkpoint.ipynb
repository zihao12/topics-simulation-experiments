{
 "cells": [
  {
   "cell_type": "markdown",
   "metadata": {},
   "source": [
    "## Goal\n",
    "* Continue my investigation in https://zihao12.github.io/topics-simulation-experiments/Investigate_rnmf_least_square.html.\n",
    "\n",
    "* Although randomized nmf works only for `Frobenius` loss now, it is still interesting to see how it performs on Poisson data. "
   ]
  },
  {
   "cell_type": "markdown",
   "metadata": {},
   "source": [
    "## Method\n",
    "* I simulate data (`p` = 5000, `n` = 1000) from a poisson model, then compute the average poisson loglikelihood, least square error of the fit. \n",
    "\n",
    "* I use `Randomized NMF HALS`, `NMF HALS`, `skd.nmf`, all of which using `frobenius norm` as objective function; as a comparison, I also use `skd.nmf` that optimizes beta divergence (KL-like divergence). "
   ]
  },
  {
   "cell_type": "markdown",
   "metadata": {},
   "source": [
    "## Summary of results\n",
    "\n",
    "### Algorithm comparison\n",
    "* It is surprising that all those methods can beat oracle in terms of poisson loglikelihood, considering their objective is least square loss. \n",
    "\n",
    "* In comparison, in `skd.nmf` with `KL-like divergence`, I need to use `tol = 1e-08` to get a slightly better `poisson loglikelihood` (1e-04 better for each count on average).  \n",
    "\n",
    "* Unlike in data generated from normal data, initialization makes less difference in terms of loss (both poisson loglikelihood, and least square)\n",
    "\n",
    "* It is difficult to fix time or objective loss by `tol` as they mean different things for those methods. But looking at close results, I would say `randomized nmf` is faster than `skd.nmf (frobenius)` while only losing `1e-07` in terms of poisson loglikelihood. `NMF HALS` is the worst among\n",
    "\n",
    "```txt\n",
    "method      time(s)   average least square\n",
    "rnmf_hals   8.61      12.97007448295477 \n",
    "nmf_hals    268       12.97007448210494\n",
    "skd.nmf      90       12.97007424537852\n",
    "\n",
    "```\n",
    "\n",
    "\n",
    "\n",
    "* `skdnmf` with `kl` as loss needs to spend significantly more time to get better poisson loglikelihood. In one case, `skdnmf kl` spends `360` seconds to get a `1e-03` advantage in poisson loglikelihood over `randomized nmf` which takes `0.75` seconds. \n",
    "\n",
    "\n",
    "```txt\n",
    "method      time(s)   average poisson ll\n",
    "rnmf_hals   0.758     -2.5330424910987963\n",
    "nmf_hals    360       -2.5319533605235485\n",
    "\n",
    "```\n",
    "\n",
    "\n",
    "### Relationship between poisson loglikelihood and least square\n",
    "* there is a linear relationship between log of least square and log of tolerance;\n",
    "\n",
    "* log of poisson loglikelihood also increases linearly as log of tolerance increases, until `tol = 1e-04`, where the maximum poisson loglikelihood is reached; then likelihood decreases little bit, around `1e-07`.\n",
    "\n",
    "* this might suggest we can initialize algorithm that optimizes beta divergence with `forbenius` loss first, then switch back to beta divergence.\n"
   ]
  },
  {
   "cell_type": "code",
   "execution_count": 1,
   "metadata": {},
   "outputs": [],
   "source": [
    "import numpy as np\n",
    "import os\n",
    "import sys\n",
    "import time\n",
    "sys.path.insert(0,'../code/')\n",
    "from utility import compute_loglik\n",
    "import ristretto\n",
    "from ristretto.nmf import compute_nmf\n",
    "from ristretto.nmf import compute_rnmf\n",
    "from scipy.stats import poisson\n",
    "from sklearn.decomposition import NMF"
   ]
  },
  {
   "cell_type": "code",
   "execution_count": 2,
   "metadata": {},
   "outputs": [],
   "source": [
    "def compute_least_sqr_loss(X,Lam):\n",
    "    p, n = X.shape\n",
    "    return (np.square((X - Lam))).sum()/(n*p)"
   ]
  },
  {
   "cell_type": "code",
   "execution_count": 3,
   "metadata": {},
   "outputs": [],
   "source": [
    "def simulate_pois(n, p, rank, seed=0):\n",
    "    np.random.seed(seed)\n",
    "    W = np.random.normal(size=(rank, n))\n",
    "    W = np.exp(W)\n",
    "    A = np.random.normal(size=(p, rank))\n",
    "    A = np.exp(A)\n",
    "    Lam = A.dot(W)\n",
    "    X = np.random.poisson(lam=Lam) \n",
    "    ll = compute_loglik(X,A,W)\n",
    "    return X, Lam, ll['poisson_ll']"
   ]
  },
  {
   "cell_type": "code",
   "execution_count": 4,
   "metadata": {},
   "outputs": [
    {
     "name": "stdout",
     "output_type": "stream",
     "text": [
      "mean poisson ll     : -2.5349285062516196\n",
      "mean least square ll: 13.134433568262152\n"
     ]
    }
   ],
   "source": [
    "n = 1000\n",
    "p = 5000\n",
    "r = 5\n",
    "np.random.seed(123)\n",
    "X, Lam,p_ll = simulate_pois(n,p,r)\n",
    "ls_ll = compute_least_sqr_loss(X,Lam)\n",
    "print(\"mean poisson ll     : \" + str(p_ll))\n",
    "print(\"mean least square ll: \" + str(ls_ll))"
   ]
  },
  {
   "cell_type": "code",
   "execution_count": 5,
   "metadata": {},
   "outputs": [
    {
     "name": "stdout",
     "output_type": "stream",
     "text": [
      "X shape: p 5000 n  1000\n"
     ]
    }
   ],
   "source": [
    "print(\"X shape: p \" + str(X.shape[0]) + \" n \", str(X.shape[1]))"
   ]
  },
  {
   "cell_type": "markdown",
   "metadata": {},
   "source": [
    "## NMF with HALS"
   ]
  },
  {
   "cell_type": "markdown",
   "metadata": {},
   "source": [
    "### init = 'nndsvd'"
   ]
  },
  {
   "cell_type": "code",
   "execution_count": 97,
   "metadata": {},
   "outputs": [
    {
     "name": "stdout",
     "output_type": "stream",
     "text": [
      "runtime: 12.47459101676941\n",
      "mean poisson ll: -2.5330425144350746\n",
      "mean least square ll: 12.970121467393719\n"
     ]
    }
   ],
   "source": [
    "start = time.time()\n",
    "A,W = compute_nmf(X,rank=r,init = 'nndsvd',tol=1e-4, maxiter=10000)\n",
    "runtime = time.time() - start\n",
    "print(\"runtime: \" + str(runtime))\n",
    "ll = compute_loglik(X,A,W)\n",
    "ls_ll = compute_least_sqr_loss(X,A.dot(W))\n",
    "print(\"mean poisson ll: \" + str(ll[\"poisson_ll\"]))\n",
    "print(\"mean least square ll: \" + str(ls_ll))"
   ]
  },
  {
   "cell_type": "code",
   "execution_count": 17,
   "metadata": {},
   "outputs": [
    {
     "name": "stdout",
     "output_type": "stream",
     "text": [
      "runtime: 71.45459294319153\n",
      "mean poisson ll: -2.533042901540544\n",
      "mean least square ll: 12.970077403058497\n"
     ]
    }
   ],
   "source": [
    "start = time.time()\n",
    "A,W = compute_nmf(X,rank=r,init = 'nndsvd',tol=1e-5, maxiter=10000)\n",
    "runtime = time.time() - start\n",
    "print(\"runtime: \" + str(runtime))\n",
    "ll = compute_loglik(X,A,W)\n",
    "ls_ll = compute_least_sqr_loss(X,A.dot(W))\n",
    "print(\"mean poisson ll: \" + str(ll[\"poisson_ll\"]))\n",
    "print(\"mean least square ll: \" + str(ls_ll))"
   ]
  },
  {
   "cell_type": "code",
   "execution_count": 13,
   "metadata": {},
   "outputs": [
    {
     "name": "stdout",
     "output_type": "stream",
     "text": [
      "runtime: 268.52411007881165\n",
      "mean poisson ll: -2.533042928853668\n",
      "mean least square ll: 12.97007448210494\n"
     ]
    }
   ],
   "source": [
    "start = time.time()\n",
    "A,W = compute_nmf(X,rank=r,init = 'nndsvd', tol=1e-10, maxiter=10000)\n",
    "runtime = time.time() - start\n",
    "print(\"runtime: \" + str(runtime))\n",
    "ll = compute_loglik(X,A,W)\n",
    "ls_ll = compute_least_sqr_loss(X,A.dot(W))\n",
    "print(\"mean poisson ll: \" + str(ll[\"poisson_ll\"]))\n",
    "print(\"mean least square ll: \" + str(ls_ll))"
   ]
  },
  {
   "cell_type": "markdown",
   "metadata": {},
   "source": [
    "### Comment:\n",
    "It takes very long to improve loss (least square, poisson loglikelihood decreases a little bit) at later stage. "
   ]
  },
  {
   "cell_type": "markdown",
   "metadata": {},
   "source": [
    "### init = 'nndsvda'"
   ]
  },
  {
   "cell_type": "code",
   "execution_count": 7,
   "metadata": {},
   "outputs": [
    {
     "name": "stdout",
     "output_type": "stream",
     "text": [
      "runtime: 4.950164079666138\n",
      "mean poisson ll: -2.533045441204308\n",
      "mean least square ll: 12.970269038806004\n"
     ]
    }
   ],
   "source": [
    "start = time.time()\n",
    "A,W = compute_nmf(X,rank=r,init = 'nndsvda')\n",
    "runtime = time.time() - start\n",
    "print(\"runtime: \" + str(runtime))\n",
    "ll = compute_loglik(X,A,W)\n",
    "ls_ll = compute_least_sqr_loss(X,A.dot(W))\n",
    "print(\"mean poisson ll: \" + str(ll[\"poisson_ll\"]))\n",
    "print(\"mean least square ll: \" + str(ls_ll))"
   ]
  },
  {
   "cell_type": "markdown",
   "metadata": {},
   "source": [
    "## Randomized NMF with HALS"
   ]
  },
  {
   "cell_type": "markdown",
   "metadata": {},
   "source": [
    "### init = 'nndsvd'"
   ]
  },
  {
   "cell_type": "code",
   "execution_count": 96,
   "metadata": {},
   "outputs": [
    {
     "name": "stdout",
     "output_type": "stream",
     "text": [
      "runtime: 0.7580208778381348\n",
      "mean poisson ll: -2.5330424910987963\n",
      "mean least square ll: 12.970121436446632\n"
     ]
    }
   ],
   "source": [
    "start = time.time()\n",
    "A,W = compute_rnmf(X,rank=r, init = 'nndsvd',random_state = 0,tol=1e-4, maxiter=10000)\n",
    "runtime = time.time() - start\n",
    "print(\"runtime: \" + str(runtime))\n",
    "ll = compute_loglik(X,A,W)\n",
    "ls_ll = compute_least_sqr_loss(X,A.dot(W))\n",
    "print(\"mean poisson ll: \" + str(ll[\"poisson_ll\"]))\n",
    "print(\"mean least square ll: \" + str(ls_ll))"
   ]
  },
  {
   "cell_type": "code",
   "execution_count": 18,
   "metadata": {},
   "outputs": [
    {
     "name": "stdout",
     "output_type": "stream",
     "text": [
      "runtime: 2.451042890548706\n",
      "mean poisson ll: -2.5330428996475707\n",
      "mean least square ll: 12.970077400281738\n"
     ]
    }
   ],
   "source": [
    "start = time.time()\n",
    "A,W = compute_rnmf(X,rank=r, init = 'nndsvd',random_state = 0,tol=1e-5, maxiter=10000)\n",
    "runtime = time.time() - start\n",
    "print(\"runtime: \" + str(runtime))\n",
    "ll = compute_loglik(X,A,W)\n",
    "ls_ll = compute_least_sqr_loss(X,A.dot(W))\n",
    "print(\"mean poisson ll: \" + str(ll[\"poisson_ll\"]))\n",
    "print(\"mean least square ll: \" + str(ls_ll))"
   ]
  },
  {
   "cell_type": "code",
   "execution_count": 14,
   "metadata": {},
   "outputs": [
    {
     "name": "stdout",
     "output_type": "stream",
     "text": [
      "runtime: 8.610498905181885\n",
      "mean poisson ll: -2.533042929707264\n",
      "mean least square ll: 12.970074482954777\n"
     ]
    }
   ],
   "source": [
    "start = time.time()\n",
    "A,W = compute_rnmf(X,rank=r, init = 'nndsvd',random_state = 0, tol=1e-10, maxiter=10000)\n",
    "runtime = time.time() - start\n",
    "print(\"runtime: \" + str(runtime))\n",
    "ll = compute_loglik(X,A,W)\n",
    "ls_ll = compute_least_sqr_loss(X,A.dot(W))\n",
    "print(\"mean poisson ll: \" + str(ll[\"poisson_ll\"]))\n",
    "print(\"mean least square ll: \" + str(ls_ll))"
   ]
  },
  {
   "cell_type": "markdown",
   "metadata": {},
   "source": [
    "## Comment:\n",
    "The advantage in time becomes more obvious when we require smaller loss ( when the fit is too good, poisson loglikelihood becomes slightly worse). Compared with `NMF HALS`, "
   ]
  },
  {
   "cell_type": "markdown",
   "metadata": {},
   "source": [
    "### init = 'nndsvda'"
   ]
  },
  {
   "cell_type": "code",
   "execution_count": 9,
   "metadata": {},
   "outputs": [
    {
     "name": "stdout",
     "output_type": "stream",
     "text": [
      "runtime: 0.5367460250854492\n",
      "mean poisson ll: -2.533045419417474\n",
      "mean least square ll: 12.97027273074913\n"
     ]
    }
   ],
   "source": [
    "start = time.time()\n",
    "A,W = compute_rnmf(X,rank=r, init = 'nndsvda',random_state = 0)\n",
    "runtime = time.time() - start\n",
    "print(\"runtime: \" + str(runtime))\n",
    "ll = compute_loglik(X,A,W)\n",
    "ls_ll = compute_least_sqr_loss(X,A.dot(W))\n",
    "print(\"mean poisson ll: \" + str(ll[\"poisson_ll\"]))\n",
    "print(\"mean least square ll: \" + str(ls_ll))"
   ]
  },
  {
   "cell_type": "markdown",
   "metadata": {},
   "source": [
    "## skdNMF `cd` solver"
   ]
  },
  {
   "cell_type": "markdown",
   "metadata": {},
   "source": [
    "### init=\"nndsvd\""
   ]
  },
  {
   "cell_type": "code",
   "execution_count": 10,
   "metadata": {},
   "outputs": [
    {
     "name": "stdout",
     "output_type": "stream",
     "text": [
      "runtime: 4.01442289352417\n",
      "mean poisson ll: -2.5330425361803606\n",
      "mean least square ll: 12.970121605388746\n"
     ]
    }
   ],
   "source": [
    "start = time.time()\n",
    "#print(\"fit\")\n",
    "model = NMF(n_components=r, init=\"nndsvd\", tol = 1e-04, beta_loss='frobenius',solver = \"cd\",\n",
    "                random_state=0, max_iter = 10000, verbose = False)\n",
    "model.fit(X.T)\n",
    "#print(\"transform\")\n",
    "L = model.transform(X.T)\n",
    "runtime = runtime = time.time() - start\n",
    "print(\"runtime: \" + str(runtime))\n",
    "F = model.components_ \n",
    "A = F.T\n",
    "W = L.T\n",
    "ll = compute_loglik(X,A,W)\n",
    "ls_ll = compute_least_sqr_loss(X,A.dot(W))\n",
    "print(\"mean poisson ll: \" + str(ll[\"poisson_ll\"]))\n",
    "print(\"mean least square ll: \" + str(ls_ll))"
   ]
  },
  {
   "cell_type": "markdown",
   "metadata": {},
   "source": [
    "### init = \"nndsvda\""
   ]
  },
  {
   "cell_type": "code",
   "execution_count": 19,
   "metadata": {},
   "outputs": [
    {
     "name": "stdout",
     "output_type": "stream",
     "text": [
      "runtime: 1.892904281616211\n",
      "mean poisson ll: -2.5330453981473537\n",
      "mean least square ll: 12.97026796856582\n"
     ]
    }
   ],
   "source": [
    "start = time.time()\n",
    "#print(\"fit\")\n",
    "model = NMF(n_components=r, init=\"nndsvda\", tol = 1e-05, beta_loss='frobenius',solver = \"cd\",\n",
    "                random_state=0, max_iter = 10000, verbose = False)\n",
    "model.fit(X.T)\n",
    "#print(\"transform\")\n",
    "L = model.transform(X.T)\n",
    "runtime = runtime = time.time() - start\n",
    "print(\"runtime: \" + str(runtime))\n",
    "F = model.components_ \n",
    "A = F.T\n",
    "W = L.T\n",
    "ll = compute_loglik(X,A,W)\n",
    "ls_ll = compute_least_sqr_loss(X,A.dot(W))\n",
    "print(\"mean poisson ll: \" + str(ll[\"poisson_ll\"]))\n",
    "print(\"mean least square ll: \" + str(ls_ll))"
   ]
  },
  {
   "cell_type": "code",
   "execution_count": 20,
   "metadata": {},
   "outputs": [
    {
     "name": "stdout",
     "output_type": "stream",
     "text": [
      "runtime: 90.68843197822571\n",
      "mean poisson ll: -2.5330428298133887\n",
      "mean least square ll: 12.970074245378528\n"
     ]
    }
   ],
   "source": [
    "start = time.time()\n",
    "#print(\"fit\")\n",
    "model = NMF(n_components=r, init=\"nndsvda\", tol = 1e-10, beta_loss='frobenius',solver = \"cd\",\n",
    "                random_state=0, max_iter = 10000, verbose = False)\n",
    "model.fit(X.T)\n",
    "#print(\"transform\")\n",
    "L = model.transform(X.T)\n",
    "runtime = runtime = time.time() - start\n",
    "print(\"runtime: \" + str(runtime))\n",
    "F = model.components_ \n",
    "A = F.T\n",
    "W = L.T\n",
    "ll = compute_loglik(X,A,W)\n",
    "ls_ll = compute_least_sqr_loss(X,A.dot(W))\n",
    "print(\"mean poisson ll: \" + str(ll[\"poisson_ll\"]))\n",
    "print(\"mean least square ll: \" + str(ls_ll))"
   ]
  },
  {
   "cell_type": "markdown",
   "metadata": {},
   "source": [
    "### beta_loss='kullback-leibler', init = 'nndsvda'"
   ]
  },
  {
   "cell_type": "code",
   "execution_count": 15,
   "metadata": {},
   "outputs": [
    {
     "name": "stdout",
     "output_type": "stream",
     "text": [
      "runtime: 327.79424118995667\n",
      "mean poisson ll: -2.532089171868993\n",
      "mean least square ll: 13.027651495411714\n"
     ]
    }
   ],
   "source": [
    "start = time.time()\n",
    "#print(\"fit\")\n",
    "model = NMF(n_components=r, init=\"nndsvda\", tol = 1e-08, beta_loss='kullback-leibler',solver = \"mu\",\n",
    "                random_state=0, max_iter = 10000, verbose = False)\n",
    "model.fit(X.T)\n",
    "#print(\"transform\")\n",
    "L = model.transform(X.T)\n",
    "runtime = runtime = time.time() - start\n",
    "print(\"runtime: \" + str(runtime))\n",
    "F = model.components_ \n",
    "A = F.T\n",
    "W = L.T\n",
    "ll = compute_loglik(X,A,W)\n",
    "ls_ll = compute_least_sqr_loss(X,A.dot(W))\n",
    "print(\"mean poisson ll: \" + str(ll[\"poisson_ll\"]))\n",
    "print(\"mean least square ll: \" + str(ls_ll))"
   ]
  },
  {
   "cell_type": "markdown",
   "metadata": {},
   "source": [
    "### beta_loss='kullback-leibler', init = 'random'"
   ]
  },
  {
   "cell_type": "code",
   "execution_count": 14,
   "metadata": {},
   "outputs": [
    {
     "name": "stdout",
     "output_type": "stream",
     "text": [
      "runtime: 360.9263050556183\n",
      "mean poisson ll: -2.5319533605235485\n",
      "mean least square ll: 13.020975179626744\n"
     ]
    }
   ],
   "source": [
    "start = time.time()\n",
    "#print(\"fit\")\n",
    "model = NMF(n_components=r, init=\"random\", tol = 1e-08, beta_loss='kullback-leibler',solver = \"mu\",\n",
    "                random_state=0, max_iter = 10000, verbose = False)\n",
    "model.fit(X.T)\n",
    "#print(\"transform\")\n",
    "L = model.transform(X.T)\n",
    "runtime = runtime = time.time() - start\n",
    "print(\"runtime: \" + str(runtime))\n",
    "F = model.components_ \n",
    "A = F.T\n",
    "W = L.T\n",
    "ll = compute_loglik(X,A,W)\n",
    "ls_ll = compute_least_sqr_loss(X,A.dot(W))\n",
    "print(\"mean poisson ll: \" + str(ll[\"poisson_ll\"]))\n",
    "print(\"mean least square ll: \" + str(ls_ll))"
   ]
  },
  {
   "cell_type": "markdown",
   "metadata": {},
   "source": [
    "### Comment:\n",
    "skdnmf seems to have very slow convergence rate in the later stage "
   ]
  },
  {
   "cell_type": "markdown",
   "metadata": {},
   "source": [
    "## Poisson ll and least square\n",
    "It is possible that at the early stage of minimizing least square, poisson loglikelihood also drops. If that is true, maybe we can use `frobenius` loss at the earlsy stage and swith back at a later stage."
   ]
  },
  {
   "cell_type": "code",
   "execution_count": 35,
   "metadata": {},
   "outputs": [],
   "source": [
    "p_lls = []\n",
    "ls_lls = []\n",
    "mytime = []\n",
    "tol = [10**(-e) for e in range(10)]\n",
    "for t in tol:\n",
    "    start = time.time()\n",
    "    A,W = compute_rnmf(X,rank=r, init = 'nndsvd',random_state = 0, tol = t, maxiter = 100000)\n",
    "    runtime = time.time() - start\n",
    "    p_ll = compute_loglik(X,A,W)\n",
    "    ls_ll = compute_least_sqr_loss(X,A.dot(W))\n",
    "    mytime.append(runtime)\n",
    "    p_lls.append(p_ll[\"poisson_ll\"])\n",
    "    ls_lls.append(ls_ll)\n",
    "   "
   ]
  },
  {
   "cell_type": "code",
   "execution_count": 38,
   "metadata": {},
   "outputs": [],
   "source": [
    "import matplotlib.pyplot as plt"
   ]
  },
  {
   "cell_type": "code",
   "execution_count": 95,
   "metadata": {},
   "outputs": [
    {
     "data": {
      "text/plain": [
       "Text(0.5,1,'log of tolerance vs time')"
      ]
     },
     "execution_count": 95,
     "metadata": {},
     "output_type": "execute_result"
    },
    {
     "data": {
      "image/png": "[encoded data removed]",
      "text/plain": [
       "<Figure size 432x288 with 1 Axes>"
      ]
     },
     "metadata": {},
     "output_type": "display_data"
    }
   ],
   "source": [
    "plt.scatter(np.log10(tol), mytime)\n",
    "plt.xlabel(\"log of tol\")\n",
    "plt.ylabel(\"run time\")\n",
    "plt.title(\"log of tolerance vs time\")"
   ]
  },
  {
   "cell_type": "code",
   "execution_count": 91,
   "metadata": {},
   "outputs": [
    {
     "name": "stderr",
     "output_type": "stream",
     "text": [
      "/anaconda3/lib/python3.6/site-packages/ipykernel_launcher.py:2: RuntimeWarning: divide by zero encountered in log10\n",
      "  \n"
     ]
    },
    {
     "data": {
      "text/plain": [
       "Text(0.5,1,'tol vs least square')"
      ]
     },
     "execution_count": 91,
     "metadata": {},
     "output_type": "execute_result"
    },
    {
     "data": {
      "image/png": "[encoded data removed]",
      "text/plain": [
       "<Figure size 432x288 with 1 Axes>"
      ]
     },
     "metadata": {},
     "output_type": "display_data"
    }
   ],
   "source": [
    "ls_lls_scaled = [ls - min(ls_lls) for ls in ls_lls]\n",
    "plt.scatter(np.log10(tol[:-1]), np.log10(ls_lls_scaled[:-1]))\n",
    "plt.xlabel(\"log of tol\")\n",
    "plt.ylabel(\"log of difference in least square (minus smallest one)\")\n",
    "plt.title(\"tol vs least square\")"
   ]
  },
  {
   "cell_type": "code",
   "execution_count": 92,
   "metadata": {},
   "outputs": [
    {
     "name": "stderr",
     "output_type": "stream",
     "text": [
      "/anaconda3/lib/python3.6/site-packages/ipykernel_launcher.py:2: RuntimeWarning: divide by zero encountered in log10\n",
      "  \n"
     ]
    },
    {
     "data": {
      "text/plain": [
       "Text(0.5,1,'tol vs poisson loglikelihood')"
      ]
     },
     "execution_count": 92,
     "metadata": {},
     "output_type": "execute_result"
    },
    {
     "data": {
      "image/png": "[encoded data removed]",
      "text/plain": [
       "<Figure size 432x288 with 1 Axes>"
      ]
     },
     "metadata": {},
     "output_type": "display_data"
    }
   ],
   "source": [
    "p_lls_scaled = [max(p_lls) -ls for ls in p_lls]\n",
    "plt.scatter(np.log10(tol), np.log10(p_lls_scaled))\n",
    "plt.xlabel(\"log of tol\")\n",
    "plt.ylabel(\"log of max(p_ll) - p_ll\")\n",
    "plt.title(\"tol vs poisson loglikelihood\")"
   ]
  },
  {
   "cell_type": "markdown",
   "metadata": {},
   "source": [
    "### Comment:\n",
    "* there is a linear relationship between log of least square and log of tolerance;\n",
    "\n",
    "* log of poisson loglikelihood also increases linearly as log of tolerance increases, until `tol = 1e-04`, where the maximum poisson loglikelihood is reached; then likelihood decreases little bit, around `1e-07`.\n",
    "\n",
    "* this might suggest we can initialize algorithm that optimizes beta divergence with `forbenius` loss first, then switch back to beta divergence."
   ]
  }
 ],
 "metadata": {
  "kernelspec": {
   "display_name": "Python 3",
   "language": "python",
   "name": "python3"
  },
  "language_info": {
   "codemirror_mode": {
    "name": "ipython",
    "version": 3
   },
   "file_extension": ".py",
   "mimetype": "text/x-python",
   "name": "python",
   "nbconvert_exporter": "python",
   "pygments_lexer": "ipython3",
   "version": "3.6.4"
  }
 },
 "nbformat": 4,
 "nbformat_minor": 2
}
