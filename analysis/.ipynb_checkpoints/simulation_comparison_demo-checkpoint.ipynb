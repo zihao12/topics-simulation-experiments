{
 "cells": [
  {
   "cell_type": "markdown",
   "metadata": {},
   "source": [
    "## Goal and Methods\n",
    "\n",
    "* I want to investigate how well the current topic modeling methods can optimize their objective function (negative poisson loglikelihood, or beta divergence here). \n",
    "\n",
    "* Therefore, I hope to apply topic modeling methods to realistic data, while also knowing the underlying distribution of the data. \n",
    "\n",
    "* To achieve this, I first fit a model on some realistic data (simulated here), then generate new data from this \"oracle\" model. Then I apply topic modeling methods and compare their performance against the oracle model.  "
   ]
  },
  {
   "cell_type": "code",
   "execution_count": 5,
   "metadata": {},
   "outputs": [],
   "source": [
    "library(NNLM)\n",
    "library(maptpx)\n",
    "library(Matrix)\n",
    "set.seed(12345)\n"
   ]
  },
  {
   "cell_type": "markdown",
   "metadata": {},
   "source": [
    "## utility functions"
   ]
  },
  {
   "cell_type": "code",
   "execution_count": 13,
   "metadata": {},
   "outputs": [],
   "source": [
    "simulate_pois <- function(n,p,k, seed = 0){\n",
    "    set.seed(seed)\n",
    "    A = matrix(rnorm(p*k, 0,1), nrow = p)\n",
    "    W = matrix(rnorm(k*n, 0,1), nrow = k)\n",
    "    lam = exp(A) %*% exp(W)\n",
    "    X = matrix(rpois(n*p,lam), nrow = p)\n",
    "    return(list(X = X, lam = lam))\n",
    "}\n",
    "\n",
    "pois_lk <- function(X,lam){\n",
    "    return(sum(dpois(X,lam, log= TRUE)))\n",
    "}\n",
    "\n",
    "generateForacle <- function(A,W, seed = 0){\n",
    "    set.seed(seed)\n",
    "    Lam = A %*% W\n",
    "    p = nrow(Lam)\n",
    "    n = ncol(Lam)\n",
    "    X = matrix(rpois(n*p,Lam), nrow = p)\n",
    "    return(X)\n",
    "}\n",
    "\n",
    "## turn fit from multinomial model to poisso model\n",
    "multinom2poisson_ll <- function(X,A,W){\n",
    "    return(A %*% W * diag(colSums(X)))\n",
    "}"
   ]
  },
  {
   "cell_type": "markdown",
   "metadata": {},
   "source": [
    "## generate new data from true data"
   ]
  },
  {
   "cell_type": "code",
   "execution_count": 3,
   "metadata": {},
   "outputs": [],
   "source": [
    "## \"true\" data\n",
    "n = 1000\n",
    "p = 5000\n",
    "k = 5\n",
    "X0 = simulate_pois(n,p,k)$X\n",
    "\n",
    "## fit model to \"true\" data\n",
    "oracle = nnmf(X0,k,method = \"scd\", loss = \"mkl\", rel.tol = 1e-3, \n",
    "           n.threads = 0, max.iter = 200, \n",
    "           inner.max.iter = 4,trace = 1,verbose = 0)\n",
    "\n",
    "## generate data from oracle\n",
    "Xnew = generateForacle(oracle$W,oracle$H)"
   ]
  },
  {
   "cell_type": "code",
   "execution_count": 6,
   "metadata": {},
   "outputs": [
    {
     "name": "stderr",
     "output_type": "stream",
     "text": [
      "Warning message in system.time(out <- .Call(\"NNLM_nnmf\", A, as.integer(k), init.mask$Wi, :\n",
      "“Target tolerance not reached. Try a larger max.iter.”"
     ]
    },
    {
     "name": "stdout",
     "output_type": "stream",
     "text": [
      "[1] \"time elapsed: 315.49\" \"time elapsed: 3.601\"  \"time elapsed: 84.066\"\n",
      "[4] \"time elapsed: 0\"      \"time elapsed: 0\"     \n"
     ]
    }
   ],
   "source": [
    "start = proc.time()\n",
    "fit_nnlm = nnmf(Xnew,k,method = \"scd\", loss = \"mkl\", rel.tol = 1e-8, \n",
    "           n.threads = 0, max.iter = 200, \n",
    "           inner.max.iter = 4,trace = 1,verbose = 0)\n",
    "print(paste0(\"time elapsed: \", proc.time() - start))"
   ]
  },
  {
   "cell_type": "code",
   "execution_count": 9,
   "metadata": {},
   "outputs": [
    {
     "name": "stdout",
     "output_type": "stream",
     "text": [
      "\n",
      "Estimating on a 1000 samples collection.\n",
      "Fitting the 5 clusters/topics model.\n",
      "log posterior increase: 272113.9498, 308768.4128, 374645.0363, 38180.3242, 6532.8724, 2192.0793, 965.7739, 492.71, 276.3672, 167.0913, 106.3126, 69.6902, 5.0034, 3.2136, 0.9079, 2.6829, 0.5513, 1.9407, 0.317, 1.9692, done. (L = -586333697.6143)\n",
      "[1] \"time elapsed: 69.617\" \"time elapsed: 8.277\"  \"time elapsed: 78.175\"\n",
      "[4] \"time elapsed: 0\"      \"time elapsed: 0\"     \n"
     ]
    }
   ],
   "source": [
    "start = proc.time()\n",
    "fit_maptpx <- topics(t(Xnew),k,shape = 0.1,tol = 1e-4,\n",
    "                tmax = 100,verb = 2)\n",
    "print(paste0(\"time elapsed: \", proc.time() - start))"
   ]
  },
  {
   "cell_type": "code",
   "execution_count": 15,
   "metadata": {},
   "outputs": [
    {
     "name": "stdout",
     "output_type": "stream",
     "text": [
      "[1] \"oracle loglikelihood: -12815132.3336176\"\n",
      "[1] \"nnlm loglikelihood: -12799974.747101\"\n"
     ]
    }
   ],
   "source": [
    "print(paste0(\"oracle loglikelihood: \", pois_lk(Xnew,oracle$W %*% oracle$H)))\n",
    "print(paste0(\"nnlm loglikelihood  : \", pois_lk(Xnew,fit_nnlm$W %*% fit_nnlm$H)))\n",
    "\n"
   ]
  },
  {
   "cell_type": "code",
   "execution_count": null,
   "metadata": {},
   "outputs": [],
   "source": []
  }
 ],
 "metadata": {
  "kernelspec": {
   "display_name": "R",
   "language": "R",
   "name": "ir"
  },
  "language_info": {
   "codemirror_mode": "r",
   "file_extension": ".r",
   "mimetype": "text/x-r-source",
   "name": "R",
   "pygments_lexer": "r",
   "version": "3.5.1"
  }
 },
 "nbformat": 4,
 "nbformat_minor": 2
}
