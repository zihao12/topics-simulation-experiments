{
 "cells": [
  {
   "cell_type": "markdown",
   "metadata": {},
   "source": [
    "## Goal\n",
    "* Continue my investigation in https://zihao12.github.io/topics-simulation-experiments/Investigate_rnmf_least_square.html.\n",
    "\n",
    "* Although randomized nmf works only for `Frobenius` loss now, it is still interesting to see how it performs on Poisson data. "
   ]
  },
  {
   "cell_type": "markdown",
   "metadata": {},
   "source": [
    "## Method\n",
    "* I simulate data (`p` = 5000, `n` = 1000) from a poisson model, then compute the average poisson loglikelihood, least square error of the fit."
   ]
  },
  {
   "cell_type": "markdown",
   "metadata": {},
   "source": [
    "## Summary of results\n",
    "\n",
    "* It is surprising that all those methods can beat oracle in terms of poisson loglikelihood, considering their objective is least square loss!\n",
    "\n",
    "* More surprisingly, skdnmf that optimized `kullback-leibler` beta_loss actually gets worse poisson loglikelihood than most other methods that optimize `frobenius` loss!\n",
    "\n",
    "* Unlike in data generated from normal data, initialization makes less difference in terms of loss (both poisson loglikelihood, and least square)\n",
    "\n",
    "* Only consider methods that beat oracle in both poisson loglikelhood and least square, the computation time (in seconds) is:\n",
    "```txt\n",
    "0.575 (randomized nmf hals; init = `nndsvd`)\n",
    "0.606 (skdnmf cd frobenius; init = `nndsvda`)\n",
    "5.807 (nmf hals; init = `nndsvd`)\n",
    "15.590 (skdnmf mu kl; init = `random`)\n",
    "```"
   ]
  },
  {
   "cell_type": "code",
   "execution_count": 1,
   "metadata": {},
   "outputs": [],
   "source": [
    "import numpy as np\n",
    "import os\n",
    "import sys\n",
    "import time\n",
    "sys.path.insert(0,'../code/')\n",
    "from utility import compute_loglik\n",
    "import ristretto\n",
    "from ristretto.nmf import compute_nmf\n",
    "from ristretto.nmf import compute_rnmf\n",
    "from scipy.stats import poisson\n",
    "from sklearn.decomposition import NMF"
   ]
  },
  {
   "cell_type": "code",
   "execution_count": 2,
   "metadata": {},
   "outputs": [],
   "source": [
    "def compute_least_sqr_loss(X,Lam):\n",
    "    p, n = X.shape\n",
    "    return (np.square((X - Lam))).sum()/(n*p)"
   ]
  },
  {
   "cell_type": "code",
   "execution_count": 3,
   "metadata": {},
   "outputs": [],
   "source": [
    "def simulate_pois(n, p, rank, seed=0):\n",
    "    np.random.seed(seed)\n",
    "    W = np.random.normal(size=(rank, n))\n",
    "    W = np.exp(W)\n",
    "    A = np.random.normal(size=(p, rank))\n",
    "    A = np.exp(A)\n",
    "    Lam = A.dot(W)\n",
    "    X = np.random.poisson(lam=Lam) \n",
    "    ll = compute_loglik(X,A,W)\n",
    "    return X, Lam, ll['poisson_ll']"
   ]
  },
  {
   "cell_type": "code",
   "execution_count": 4,
   "metadata": {},
   "outputs": [
    {
     "name": "stdout",
     "output_type": "stream",
     "text": [
      "mean poisson ll     : -2.5349285062516196\n",
      "mean least square ll: 13.134433568262152\n"
     ]
    }
   ],
   "source": [
    "n = 1000\n",
    "p = 5000\n",
    "r = 5\n",
    "np.random.seed(123)\n",
    "X, Lam,p_ll = simulate_pois(n,p,r)\n",
    "ls_ll = compute_least_sqr_loss(X,Lam)\n",
    "print(\"mean poisson ll     : \" + str(p_ll))\n",
    "print(\"mean least square ll: \" + str(ls_ll))"
   ]
  },
  {
   "cell_type": "code",
   "execution_count": 5,
   "metadata": {},
   "outputs": [
    {
     "name": "stdout",
     "output_type": "stream",
     "text": [
      "X shape: p 5000 n  1000\n"
     ]
    }
   ],
   "source": [
    "print(\"X shape: p \" + str(X.shape[0]) + \" n \", str(X.shape[1]))"
   ]
  },
  {
   "cell_type": "markdown",
   "metadata": {},
   "source": [
    "## NMF with HALS"
   ]
  },
  {
   "cell_type": "markdown",
   "metadata": {},
   "source": [
    "### init = 'nndsvd'"
   ]
  },
  {
   "cell_type": "code",
   "execution_count": 6,
   "metadata": {},
   "outputs": [
    {
     "name": "stdout",
     "output_type": "stream",
     "text": [
      "runtime: 5.807928085327148\n",
      "mean poisson ll: -2.533043847376622\n",
      "mean least square ll: 12.970209766688443\n"
     ]
    }
   ],
   "source": [
    "start = time.time()\n",
    "A,W = compute_nmf(X,rank=r,init = 'nndsvd')\n",
    "runtime = time.time() - start\n",
    "print(\"runtime: \" + str(runtime))\n",
    "ll = compute_loglik(X,A,W)\n",
    "ls_ll = compute_least_sqr_loss(X,A.dot(W))\n",
    "print(\"mean poisson ll: \" + str(ll[\"poisson_ll\"]))\n",
    "print(\"mean least square ll: \" + str(ls_ll))"
   ]
  },
  {
   "cell_type": "markdown",
   "metadata": {},
   "source": [
    "### init = 'nndsvda'"
   ]
  },
  {
   "cell_type": "code",
   "execution_count": 7,
   "metadata": {},
   "outputs": [
    {
     "name": "stdout",
     "output_type": "stream",
     "text": [
      "runtime: 5.173786163330078\n",
      "mean poisson ll: -2.533045441204308\n",
      "mean least square ll: 12.970269038806004\n"
     ]
    }
   ],
   "source": [
    "start = time.time()\n",
    "A,W = compute_nmf(X,rank=r,init = 'nndsvda')\n",
    "runtime = time.time() - start\n",
    "print(\"runtime: \" + str(runtime))\n",
    "ll = compute_loglik(X,A,W)\n",
    "ls_ll = compute_least_sqr_loss(X,A.dot(W))\n",
    "print(\"mean poisson ll: \" + str(ll[\"poisson_ll\"]))\n",
    "print(\"mean least square ll: \" + str(ls_ll))"
   ]
  },
  {
   "cell_type": "markdown",
   "metadata": {},
   "source": [
    "## Randomized NMF with HALS"
   ]
  },
  {
   "cell_type": "markdown",
   "metadata": {},
   "source": [
    "### init = 'nndsvd'"
   ]
  },
  {
   "cell_type": "code",
   "execution_count": 8,
   "metadata": {},
   "outputs": [
    {
     "name": "stdout",
     "output_type": "stream",
     "text": [
      "runtime: 0.5754971504211426\n",
      "mean poisson ll: -2.5330438296107585\n",
      "mean least square ll: 12.970209539526671\n"
     ]
    }
   ],
   "source": [
    "start = time.time()\n",
    "A,W = compute_rnmf(X,rank=r, init = 'nndsvd',random_state = 0)\n",
    "runtime = time.time() - start\n",
    "print(\"runtime: \" + str(runtime))\n",
    "ll = compute_loglik(X,A,W)\n",
    "ls_ll = compute_least_sqr_loss(X,A.dot(W))\n",
    "print(\"mean poisson ll: \" + str(ll[\"poisson_ll\"]))\n",
    "print(\"mean least square ll: \" + str(ls_ll))"
   ]
  },
  {
   "cell_type": "markdown",
   "metadata": {},
   "source": [
    "### init = 'nndsvda'"
   ]
  },
  {
   "cell_type": "code",
   "execution_count": 9,
   "metadata": {},
   "outputs": [
    {
     "name": "stdout",
     "output_type": "stream",
     "text": [
      "runtime: 0.5941121578216553\n",
      "mean poisson ll: -2.533045419417474\n",
      "mean least square ll: 12.97027273074913\n"
     ]
    }
   ],
   "source": [
    "start = time.time()\n",
    "A,W = compute_rnmf(X,rank=r, init = 'nndsvda',random_state = 0)\n",
    "runtime = time.time() - start\n",
    "print(\"runtime: \" + str(runtime))\n",
    "ll = compute_loglik(X,A,W)\n",
    "ls_ll = compute_least_sqr_loss(X,A.dot(W))\n",
    "print(\"mean poisson ll: \" + str(ll[\"poisson_ll\"]))\n",
    "print(\"mean least square ll: \" + str(ls_ll))"
   ]
  },
  {
   "cell_type": "markdown",
   "metadata": {},
   "source": [
    "## skdNMF `cd` solver"
   ]
  },
  {
   "cell_type": "markdown",
   "metadata": {},
   "source": [
    "### init=\"nndsvd\""
   ]
  },
  {
   "cell_type": "code",
   "execution_count": 10,
   "metadata": {},
   "outputs": [
    {
     "name": "stdout",
     "output_type": "stream",
     "text": [
      "runtime: 4.212007284164429\n",
      "mean poisson ll: -2.5330425361803606\n",
      "mean least square ll: 12.970121605388746\n"
     ]
    }
   ],
   "source": [
    "start = time.time()\n",
    "#print(\"fit\")\n",
    "model = NMF(n_components=r, init=\"nndsvd\", tol = 1e-04, beta_loss='frobenius',solver = \"cd\",\n",
    "                random_state=0, max_iter = 10000, verbose = False)\n",
    "model.fit(X.T)\n",
    "#print(\"transform\")\n",
    "L = model.transform(X.T)\n",
    "runtime = runtime = time.time() - start\n",
    "print(\"runtime: \" + str(runtime))\n",
    "F = model.components_ \n",
    "A = F.T\n",
    "W = L.T\n",
    "ll = compute_loglik(X,A,W)\n",
    "ls_ll = compute_least_sqr_loss(X,A.dot(W))\n",
    "print(\"mean poisson ll: \" + str(ll[\"poisson_ll\"]))\n",
    "print(\"mean least square ll: \" + str(ls_ll))"
   ]
  },
  {
   "cell_type": "markdown",
   "metadata": {},
   "source": [
    "### init = \"nndsvda\""
   ]
  },
  {
   "cell_type": "code",
   "execution_count": 11,
   "metadata": {},
   "outputs": [
    {
     "name": "stdout",
     "output_type": "stream",
     "text": [
      "runtime: 0.6064162254333496\n",
      "mean poisson ll: -2.5331231014054993\n",
      "mean least square ll: 12.9733209457819\n"
     ]
    }
   ],
   "source": [
    "start = time.time()\n",
    "#print(\"fit\")\n",
    "model = NMF(n_components=r, init=\"nndsvda\", tol = 1e-04, beta_loss='frobenius',solver = \"cd\",\n",
    "                random_state=0, max_iter = 10000, verbose = False)\n",
    "model.fit(X.T)\n",
    "#print(\"transform\")\n",
    "L = model.transform(X.T)\n",
    "runtime = runtime = time.time() - start\n",
    "print(\"runtime: \" + str(runtime))\n",
    "F = model.components_ \n",
    "A = F.T\n",
    "W = L.T\n",
    "ll = compute_loglik(X,A,W)\n",
    "ls_ll = compute_least_sqr_loss(X,A.dot(W))\n",
    "print(\"mean poisson ll: \" + str(ll[\"poisson_ll\"]))\n",
    "print(\"mean least square ll: \" + str(ls_ll))"
   ]
  },
  {
   "cell_type": "markdown",
   "metadata": {},
   "source": [
    "### beta_loss='kullback-leibler', init = 'nndsvda'"
   ]
  },
  {
   "cell_type": "code",
   "execution_count": 15,
   "metadata": {},
   "outputs": [
    {
     "name": "stdout",
     "output_type": "stream",
     "text": [
      "runtime: 327.79424118995667\n",
      "mean poisson ll: -2.532089171868993\n",
      "mean least square ll: 13.027651495411714\n"
     ]
    }
   ],
   "source": [
    "start = time.time()\n",
    "#print(\"fit\")\n",
    "model = NMF(n_components=r, init=\"nndsvda\", tol = 1e-08, beta_loss='kullback-leibler',solver = \"mu\",\n",
    "                random_state=0, max_iter = 10000, verbose = False)\n",
    "model.fit(X.T)\n",
    "#print(\"transform\")\n",
    "L = model.transform(X.T)\n",
    "runtime = runtime = time.time() - start\n",
    "print(\"runtime: \" + str(runtime))\n",
    "F = model.components_ \n",
    "A = F.T\n",
    "W = L.T\n",
    "ll = compute_loglik(X,A,W)\n",
    "ls_ll = compute_least_sqr_loss(X,A.dot(W))\n",
    "print(\"mean poisson ll: \" + str(ll[\"poisson_ll\"]))\n",
    "print(\"mean least square ll: \" + str(ls_ll))"
   ]
  },
  {
   "cell_type": "markdown",
   "metadata": {},
   "source": [
    "### beta_loss='kullback-leibler', init = 'random'"
   ]
  },
  {
   "cell_type": "code",
   "execution_count": 14,
   "metadata": {},
   "outputs": [
    {
     "name": "stdout",
     "output_type": "stream",
     "text": [
      "runtime: 360.9263050556183\n",
      "mean poisson ll: -2.5319533605235485\n",
      "mean least square ll: 13.020975179626744\n"
     ]
    }
   ],
   "source": [
    "start = time.time()\n",
    "#print(\"fit\")\n",
    "model = NMF(n_components=r, init=\"random\", tol = 1e-08, beta_loss='kullback-leibler',solver = \"mu\",\n",
    "                random_state=0, max_iter = 10000, verbose = False)\n",
    "model.fit(X.T)\n",
    "#print(\"transform\")\n",
    "L = model.transform(X.T)\n",
    "runtime = runtime = time.time() - start\n",
    "print(\"runtime: \" + str(runtime))\n",
    "F = model.components_ \n",
    "A = F.T\n",
    "W = L.T\n",
    "ll = compute_loglik(X,A,W)\n",
    "ls_ll = compute_least_sqr_loss(X,A.dot(W))\n",
    "print(\"mean poisson ll: \" + str(ll[\"poisson_ll\"]))\n",
    "print(\"mean least square ll: \" + str(ls_ll))"
   ]
  },
  {
   "cell_type": "markdown",
   "metadata": {},
   "source": [
    "### Comment:\n",
    "skdnmf seems to have very slow convergence rate in the later stage "
   ]
  }
 ],
 "metadata": {
  "kernelspec": {
   "display_name": "Python 3",
   "language": "python",
   "name": "python3"
  },
  "language_info": {
   "codemirror_mode": {
    "name": "ipython",
    "version": 3
   },
   "file_extension": ".py",
   "mimetype": "text/x-python",
   "name": "python",
   "nbconvert_exporter": "python",
   "pygments_lexer": "ipython3",
   "version": "3.6.4"
  }
 },
 "nbformat": 4,
 "nbformat_minor": 2
}
