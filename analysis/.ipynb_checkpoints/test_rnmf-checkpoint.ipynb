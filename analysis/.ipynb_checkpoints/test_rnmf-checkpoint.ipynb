{
 "cells": [
  {
   "cell_type": "code",
   "execution_count": 1,
   "metadata": {},
   "outputs": [
    {
     "ename": "IndentationError",
     "evalue": "unindent does not match any outer indentation level (mynmf.py, line 27)",
     "output_type": "error",
     "traceback": [
      "Traceback \u001b[0;36m(most recent call last)\u001b[0m:\n",
      "  File \u001b[1;32m\"/anaconda3/lib/python3.6/site-packages/IPython/core/interactiveshell.py\"\u001b[0m, line \u001b[1;32m2910\u001b[0m, in \u001b[1;35mrun_code\u001b[0m\n    exec(code_obj, self.user_global_ns, self.user_ns)\n",
      "\u001b[0;36m  File \u001b[0;32m\"<ipython-input-1-c5214c4df17e>\"\u001b[0;36m, line \u001b[0;32m8\u001b[0;36m, in \u001b[0;35m<module>\u001b[0;36m\u001b[0m\n\u001b[0;31m    from mynmf import compute_nmf\u001b[0m\n",
      "\u001b[0;36m  File \u001b[0;32m\"../myRistretto/mynmf.py\"\u001b[0;36m, line \u001b[0;32m27\u001b[0m\n\u001b[0;31m    \"\"\"Nonnegative Matrix Factorization.\u001b[0m\n\u001b[0m                                        ^\u001b[0m\n\u001b[0;31mIndentationError\u001b[0m\u001b[0;31m:\u001b[0m unindent does not match any outer indentation level\n"
     ]
    }
   ],
   "source": [
    "import numpy as np\n",
    "import os\n",
    "import sys\n",
    "import time\n",
    "sys.path.insert(0,'../code/')\n",
    "from utility import compute_loglik\n",
    "sys.path.insert(0,'../myRistretto/')\n",
    "from mynmf import compute_nmf\n",
    "from mynmf import compute_rnmf\n",
    "from scipy.stats import poisson\n"
   ]
  },
  {
   "cell_type": "code",
   "execution_count": null,
   "metadata": {},
   "outputs": [],
   "source": [
    "def compute_least_sqr_loss(X,Lam):\n",
    "    p, n = X.shape\n",
    "    return (np.square((X - Lam))).sum()/(n*p)\n",
    "\n",
    "def simulate_normal(n, p, rank, seed=0):\n",
    "    np.random.seed(seed)\n",
    "    W = np.random.normal(loc = 1, size=(rank, n))\n",
    "    W = np.exp(W)\n",
    "    A = np.random.normal(loc = 1, size=(p, rank))\n",
    "    A = np.exp(A)\n",
    "    Lam = A.dot(W)\n",
    "    X = np.random.normal(loc=Lam, scale = 1, size = (p,n)) \n",
    "    X[np.where(X < 0 )] = 0\n",
    "    ll = compute_least_sqr_loss(X,Lam)\n",
    "    return X, Lam, ll"
   ]
  },
  {
   "cell_type": "code",
   "execution_count": null,
   "metadata": {},
   "outputs": [],
   "source": [
    "n = 1000\n",
    "p = 5000\n",
    "r = 5\n",
    "np.random.seed(123)\n",
    "X, Lam,ll = simulate_normal(n,p,r)\n",
    "#ls_ll = compute_least_sqr_loss(X,Lam)\n",
    "#print(\"mean least square ll: \" + str(ll))"
   ]
  },
  {
   "cell_type": "code",
   "execution_count": null,
   "metadata": {},
   "outputs": [],
   "source": [
    "start = time.time()\n",
    "A,W = compute_nmf(X,rank=r,init = 'nndsvd', tol=1e-05, maxiter= 10)\n",
    "runtime = time.time() - start\n",
    "print(\"runtime: \" + str(runtime))\n",
    "ls_ll = compute_least_sqr_loss(X,A.dot(W))\n",
    "print(\"mean least square ll: \" + str(ls_ll))"
   ]
  },
  {
   "cell_type": "code",
   "execution_count": null,
   "metadata": {},
   "outputs": [],
   "source": []
  }
 ],
 "metadata": {
  "kernelspec": {
   "display_name": "Python 3",
   "language": "python",
   "name": "python3"
  },
  "language_info": {
   "codemirror_mode": {
    "name": "ipython",
    "version": 3
   },
   "file_extension": ".py",
   "mimetype": "text/x-python",
   "name": "python",
   "nbconvert_exporter": "python",
   "pygments_lexer": "ipython3",
   "version": "3.6.4"
  }
 },
 "nbformat": 4,
 "nbformat_minor": 2
}
