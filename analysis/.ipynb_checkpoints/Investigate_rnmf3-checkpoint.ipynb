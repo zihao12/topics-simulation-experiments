{
 "cells": [
  {
   "cell_type": "markdown",
   "metadata": {},
   "source": [
    "## Goal\n",
    "I want to investigate `randomized nmf` at https://github.com/erichson/ristretto (the paper is https://arxiv.org/abs/1711.02037)"
   ]
  },
  {
   "cell_type": "code",
   "execution_count": 1,
   "metadata": {},
   "outputs": [],
   "source": [
    "import numpy as np\n",
    "import os\n",
    "import sys\n",
    "import time\n",
    "sys.path.insert(0,'../code/')\n",
    "from utility import compute_loglik\n",
    "import ristretto\n",
    "from ristretto.nmf import compute_nmf\n",
    "from ristretto.nmf import compute_rnmf\n",
    "from scipy.stats import poisson\n",
    "from sklearn.decomposition import NMF"
   ]
  },
  {
   "cell_type": "code",
   "execution_count": 2,
   "metadata": {},
   "outputs": [],
   "source": [
    "def simulate_pois(n, p, rank, seed=0):\n",
    "    np.random.seed(seed)\n",
    "    W = np.random.normal(size=(rank, n))\n",
    "    W = np.exp(W)\n",
    "    A = np.random.normal(size=(p, rank))\n",
    "    A = np.exp(A)\n",
    "    Lam = A.dot(W)\n",
    "    X = np.random.poisson(lam=Lam) \n",
    "    ll = compute_loglik(X,A,W)\n",
    "    return X, Lam, ll['poisson_ll']"
   ]
  },
  {
   "cell_type": "code",
   "execution_count": 3,
   "metadata": {},
   "outputs": [
    {
     "name": "stdout",
     "output_type": "stream",
     "text": [
      "mean poisson ll: -2.5349285062516196\n"
     ]
    }
   ],
   "source": [
    "n = 1000\n",
    "p = 5000\n",
    "r = 5\n",
    "np.random.seed(123)\n",
    "X, Lam,p_ll = simulate_pois(n,p,r)\n",
    "print(\"mean poisson ll: \" + str(p_ll))"
   ]
  },
  {
   "cell_type": "code",
   "execution_count": 4,
   "metadata": {},
   "outputs": [
    {
     "name": "stdout",
     "output_type": "stream",
     "text": [
      "X shape: p 5000 n  1000\n"
     ]
    }
   ],
   "source": [
    "print(\"X shape: p \" + str(X.shape[0]) + \" n \", str(X.shape[1]))"
   ]
  },
  {
   "cell_type": "markdown",
   "metadata": {},
   "source": [
    "## NMF with HALS"
   ]
  },
  {
   "cell_type": "code",
   "execution_count": 5,
   "metadata": {},
   "outputs": [
    {
     "ename": "TypeError",
     "evalue": "compute_nmf() got an unexpected keyword argument 'verbose'",
     "output_type": "error",
     "traceback": [
      "\u001b[0;31m---------------------------------------------------------------------------\u001b[0m",
      "\u001b[0;31mTypeError\u001b[0m                                 Traceback (most recent call last)",
      "\u001b[0;32m<ipython-input-5-d856c0c8717d>\u001b[0m in \u001b[0;36m<module>\u001b[0;34m()\u001b[0m\n\u001b[1;32m      1\u001b[0m \u001b[0mstart\u001b[0m \u001b[0;34m=\u001b[0m \u001b[0mtime\u001b[0m\u001b[0;34m.\u001b[0m\u001b[0mtime\u001b[0m\u001b[0;34m(\u001b[0m\u001b[0;34m)\u001b[0m\u001b[0;34m\u001b[0m\u001b[0m\n\u001b[0;32m----> 2\u001b[0;31m \u001b[0mA\u001b[0m\u001b[0;34m,\u001b[0m\u001b[0mW\u001b[0m \u001b[0;34m=\u001b[0m \u001b[0mcompute_nmf\u001b[0m\u001b[0;34m(\u001b[0m\u001b[0mX\u001b[0m\u001b[0;34m,\u001b[0m\u001b[0mrank\u001b[0m\u001b[0;34m=\u001b[0m\u001b[0mr\u001b[0m\u001b[0;34m,\u001b[0m\u001b[0minit\u001b[0m \u001b[0;34m=\u001b[0m \u001b[0;34m'nndsvd'\u001b[0m\u001b[0;34m,\u001b[0m \u001b[0mverbose\u001b[0m \u001b[0;34m=\u001b[0m \u001b[0;32mTrue\u001b[0m\u001b[0;34m)\u001b[0m\u001b[0;34m\u001b[0m\u001b[0m\n\u001b[0m\u001b[1;32m      3\u001b[0m \u001b[0mruntime\u001b[0m \u001b[0;34m=\u001b[0m \u001b[0mtime\u001b[0m\u001b[0;34m.\u001b[0m\u001b[0mtime\u001b[0m\u001b[0;34m(\u001b[0m\u001b[0;34m)\u001b[0m \u001b[0;34m-\u001b[0m \u001b[0mstart\u001b[0m\u001b[0;34m\u001b[0m\u001b[0m\n\u001b[1;32m      4\u001b[0m \u001b[0mprint\u001b[0m\u001b[0;34m(\u001b[0m\u001b[0;34m\"runtime: \"\u001b[0m \u001b[0;34m+\u001b[0m \u001b[0mstr\u001b[0m\u001b[0;34m(\u001b[0m\u001b[0mruntime\u001b[0m\u001b[0;34m)\u001b[0m\u001b[0;34m)\u001b[0m\u001b[0;34m\u001b[0m\u001b[0m\n\u001b[1;32m      5\u001b[0m \u001b[0mll\u001b[0m \u001b[0;34m=\u001b[0m \u001b[0mcompute_loglik\u001b[0m\u001b[0;34m(\u001b[0m\u001b[0mX\u001b[0m\u001b[0;34m,\u001b[0m\u001b[0mA\u001b[0m\u001b[0;34m,\u001b[0m\u001b[0mW\u001b[0m\u001b[0;34m)\u001b[0m\u001b[0;34m\u001b[0m\u001b[0m\n",
      "\u001b[0;31mTypeError\u001b[0m: compute_nmf() got an unexpected keyword argument 'verbose'"
     ]
    }
   ],
   "source": [
    "start = time.time()\n",
    "A,W = compute_nmf(X,rank=r,init = 'nndsvd')\n",
    "runtime = time.time() - start\n",
    "print(\"runtime: \" + str(runtime))\n",
    "ll = compute_loglik(X,A,W)\n",
    "print(\"mean poisson ll: \" + str(ll[\"poisson_ll\"]))"
   ]
  },
  {
   "cell_type": "markdown",
   "metadata": {},
   "source": [
    "## Randomized NMF with HALS"
   ]
  },
  {
   "cell_type": "code",
   "execution_count": null,
   "metadata": {},
   "outputs": [],
   "source": [
    "start = time.time()\n",
    "A,W = compute_rnmf(X,rank=r, init = 'nndsvd',random_state = 0)\n",
    "runtime = time.time() - start\n",
    "print(\"runtime: \" + str(runtime))\n",
    "ll = compute_loglik(X,A,W)\n",
    "print(\"mean poisson ll: \" + str(ll[\"poisson_ll\"]))"
   ]
  },
  {
   "cell_type": "code",
   "execution_count": null,
   "metadata": {},
   "outputs": [],
   "source": [
    "start = time.time()\n",
    "#print(\"fit\")\n",
    "model = NMF(n_components=r, init=\"nndsvd\", tol = 1e-04, beta_loss=\"kullback-leibler\",solver = \"mu\",\n",
    "                random_state=0, max_iter = 10000, verbose = False)\n",
    "model.fit(X.T)\n",
    "#print(\"transform\")\n",
    "L = model.transform(X.T)\n",
    "runtime = runtime = time.time() - start\n",
    "print(\"runtime: \" + str(runtime))\n",
    "F = model.components_ \n",
    "A = F.T\n",
    "W = L.T\n",
    "ll = compute_loglik(X,A,W)\n",
    "print(\"mean poisson ll: \" + str(ll[\"poisson_ll\"]))\n"
   ]
  },
  {
   "cell_type": "markdown",
   "metadata": {},
   "source": [
    "skd.nmf does not handle 0s in initialization. Try `nndsvda`."
   ]
  },
  {
   "cell_type": "code",
   "execution_count": null,
   "metadata": {},
   "outputs": [],
   "source": [
    "start = time.time()\n",
    "#print(\"fit\")\n",
    "model = NMF(n_components=r, init=\"nndsvda\", tol = 1e-04, beta_loss=\"kullback-leibler\",solver = \"mu\",\n",
    "                random_state=0, max_iter = 10000, verbose = False)\n",
    "model.fit(X.T)\n",
    "#print(\"transform\")\n",
    "L = model.transform(X.T)\n",
    "runtime = runtime = time.time() - start\n",
    "print(\"runtime: \" + str(runtime))\n",
    "F = model.components_ \n",
    "A = F.T\n",
    "W = L.T\n",
    "ll = compute_loglik(X,A,W)\n",
    "print(\"mean poisson ll: \" + str(ll[\"poisson_ll\"]))"
   ]
  },
  {
   "cell_type": "markdown",
   "metadata": {},
   "source": [
    "To be fair, use `frobenous loss` and `mu` update. "
   ]
  },
  {
   "cell_type": "code",
   "execution_count": null,
   "metadata": {},
   "outputs": [],
   "source": [
    "start = time.time()\n",
    "#print(\"fit\")\n",
    "model = NMF(n_components=r, init=\"nndsvda\", tol = 1e-04, beta_loss='frobenius',solver = \"mu\",\n",
    "                random_state=0, max_iter = 10000, verbose = False)\n",
    "model.fit(X.T)\n",
    "#print(\"transform\")\n",
    "L = model.transform(X.T)\n",
    "runtime = runtime = time.time() - start\n",
    "print(\"runtime: \" + str(runtime))\n",
    "F = model.components_ \n",
    "A = F.T\n",
    "W = L.T\n",
    "ll = compute_loglik(X,A,W)\n",
    "print(\"mean poisson ll: \" + str(ll[\"poisson_ll\"]))"
   ]
  },
  {
   "cell_type": "markdown",
   "metadata": {},
   "source": [
    "### Comment: \n",
    "It is quite surprising that `frobenius` loss gives quite good poisson loglikelihood... "
   ]
  },
  {
   "cell_type": "code",
   "execution_count": null,
   "metadata": {},
   "outputs": [],
   "source": [
    "start = time.time()\n",
    "#print(\"fit\")\n",
    "model = NMF(n_components=r, init=\"nndsvda\", tol = 1e-04, beta_loss='frobenius',solver = \"cd\",\n",
    "                random_state=0, max_iter = 10000, verbose = False)\n",
    "model.fit(X.T)\n",
    "#print(\"transform\")\n",
    "L = model.transform(X.T)\n",
    "runtime = runtime = time.time() - start\n",
    "print(\"runtime: \" + str(runtime))\n",
    "F = model.components_ \n",
    "A = F.T\n",
    "W = L.T\n",
    "ll = compute_loglik(X,A,W)\n",
    "print(\"mean poisson ll: \" + str(ll[\"poisson_ll\"]))"
   ]
  },
  {
   "cell_type": "code",
   "execution_count": null,
   "metadata": {},
   "outputs": [],
   "source": []
  }
 ],
 "metadata": {
  "kernelspec": {
   "display_name": "Python 3",
   "language": "python",
   "name": "python3"
  },
  "language_info": {
   "codemirror_mode": {
    "name": "ipython",
    "version": 3
   },
   "file_extension": ".py",
   "mimetype": "text/x-python",
   "name": "python",
   "nbconvert_exporter": "python",
   "pygments_lexer": "ipython3",
   "version": "3.6.4"
  }
 },
 "nbformat": 4,
 "nbformat_minor": 2
}
