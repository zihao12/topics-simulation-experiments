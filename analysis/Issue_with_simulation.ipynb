{
 "cells": [
  {
   "cell_type": "markdown",
   "metadata": {},
   "source": [
    "## Issue with very high loglikelihood in generated data"
   ]
  },
  {
   "cell_type": "markdown",
   "metadata": {},
   "source": [
    "## Goal\n",
    "I was trying to generate new data from fitted model of `GTEx`. However, I realize that the average oracle poisson loglikelihood is much higher than the average poisson loglikelihood from the fit with GTEx dataset (`-2` vs `-115`), which is surprising. Most probably there is a bug. I am trying to find it out. \n",
    "\n",
    "I use the function below to compute loglikelihood (I recomputed the some of the loglikelihood below) "
   ]
  },
  {
   "cell_type": "markdown",
   "metadata": {},
   "source": [
    "```{r}\n",
    "## compute both multinomial and poisson logliklihood for both multinomial and poisson model\n",
    "## X is [n_feature, n_sample] matrix;\n",
    "## A is [n_feature,K] factor (A = F)\n",
    "## W is [K,n_sample] loading (transpose) (W = t(L))\n",
    "compute_ll <- function(X,A,W, e = .Machine$double.eps){\n",
    "  p = nrow(X)\n",
    "  n = ncol(X)\n",
    "  if(mean(colSums(A %*% W)) < 1.1){ ## this is multinomial model\n",
    "    theta = A %*% W ## parameter for multinom distribution\n",
    "    multinom_ll = sum(X * log(theta + e))\n",
    "    lam = theta %*% diag(colSums(X))\n",
    "    pois_ll = sum(dpois(X,lam, log= TRUE))/(n*p)\n",
    "    return(list(type = \"multinom\", multinom_ll = multinom_ll, pois_ll = pois_ll))\n",
    "  }\n",
    "  else{ ## this is poisson model\n",
    "    pois_ll = sum(dpois(X,A %*% W, log= TRUE))/(n*p)\n",
    "    out = poisson2multinom(A,t(W))\n",
    "    Ahat = out$F\n",
    "    What = t(out$L)\n",
    "    theta = Ahat %*% What\n",
    "    multinom_ll = sum(X * log(theta + e))\n",
    "    return(list(type = \"poisson\", multinom_ll = multinom_ll, pois_ll = pois_ll))\n",
    "    }\n",
    "}\n",
    "```"
   ]
  },
  {
   "cell_type": "markdown",
   "metadata": {},
   "source": [
    "### The loglikelihood computed are listed here \n",
    "```\n",
    "* In fitting the GTEx, we have the following loglikelihood (model | GTEx)\n",
    " \n",
    "method  time(s) multinom ll             pois ll (mean)\n",
    "\n",
    "nnmf    15406   -5527555982054.788      -115.5841\n",
    "\n",
    "* But in generating and fitting the oracle, we have the following (model | simulated data from oracle, which is nnmf)\n",
    "\n",
    "method  time(s) multinom ll             pois ll (mean)\n",
    "\n",
    "oracle          -5535274871489.7959     -2.108910154212\n",
    "\n",
    "maptpx  46273   -5535547915113.8789     -2.527085324929\n",
    "\n",
    "nnmf    15581   -5535274339301.6719     -2.108086114508\n",
    "```\n",
    "\n"
   ]
  },
  {
   "cell_type": "code",
   "execution_count": 1,
   "metadata": {},
   "outputs": [],
   "source": [
    "data.dir           <- file.path(\"../../topics-simulation-bigdata\",\"output\")\n",
    "read.counts.file   <- \"gtex.csv.gz\"\n",
    "## they are fitted by `topics/script/fit_gtex_nnlm.R`\n",
    "read.factors.file   <- \"gtex_factors_nnmf.csv.gz\"\n",
    "read.loadings.file   <- \"gtex_loadings_nnmf.csv.gz\"\n",
    "\n",
    "# SET UP ENVIRONMENT\n",
    "# ------------------\n",
    "# Load packages and function definitions.\n",
    "library(readr)\n",
    "library(NNLM)\n",
    "source(file.path(\"..\",\"code\",\"misc.R\"))\n",
    "source(file.path(\"..\",\"code\",\"utility.R\"))\n"
   ]
  },
  {
   "cell_type": "code",
   "execution_count": 2,
   "metadata": {},
   "outputs": [
    {
     "name": "stdout",
     "output_type": "stream",
     "text": [
      "Loading GTEx data.\n",
      "Loaded 11688 x 55863 count matrix.\n"
     ]
    }
   ],
   "source": [
    "# LOAD DATA\n",
    "# --------------\n",
    "cat(\"Loading GTEx data.\\n\")\n",
    "read.counts.file <- file.path(data.dir,read.counts.file)\n",
    "counts <- read.csv.matrix(read.counts.file)\n",
    "cat(sprintf(\"Loaded %d x %d count matrix.\\n\",nrow(counts),ncol(counts)))"
   ]
  },
  {
   "cell_type": "code",
   "execution_count": 3,
   "metadata": {},
   "outputs": [
    {
     "name": "stdout",
     "output_type": "stream",
     "text": [
      "Loading model.\n"
     ]
    }
   ],
   "source": [
    "# LOAD FITTED MODEL\n",
    "# --------------\n",
    "cat(\"Loading model.\\n\")\n",
    "read.factors.file <- file.path(data.dir,read.factors.file)\n",
    "read.loadings.file <- file.path(data.dir,read.loadings.file)\n",
    "\n",
    "F <- read.csv.matrix(read.factors.file)\n",
    "L <- read.csv.matrix(read.loadings.file)"
   ]
  },
  {
   "cell_type": "code",
   "execution_count": 4,
   "metadata": {},
   "outputs": [
    {
     "name": "stdout",
     "output_type": "stream",
     "text": [
      "[1] 11688    20\n",
      "[1] 55863    20\n"
     ]
    }
   ],
   "source": [
    "print(dim(L))\n",
    "print(dim(F))"
   ]
  },
  {
   "cell_type": "code",
   "execution_count": 5,
   "metadata": {},
   "outputs": [
    {
     "data": {
      "text/html": [
       "<ol class=list-inline>\n",
       "\t<li>55863</li>\n",
       "\t<li>11688</li>\n",
       "</ol>\n"
      ],
      "text/latex": [
       "\\begin{enumerate*}\n",
       "\\item 55863\n",
       "\\item 11688\n",
       "\\end{enumerate*}\n"
      ],
      "text/markdown": [
       "1. 55863\n",
       "2. 11688\n",
       "\n",
       "\n"
      ],
      "text/plain": [
       "[1] 55863 11688"
      ]
     },
     "metadata": {},
     "output_type": "display_data"
    }
   ],
   "source": [
    "Lam = F %*% t(L)\n",
    "dim(Lam)"
   ]
  },
  {
   "cell_type": "markdown",
   "metadata": {},
   "source": [
    "## Compare fitted Lam, generated X, with true counts"
   ]
  },
  {
   "cell_type": "markdown",
   "metadata": {},
   "source": [
    "### Generate data"
   ]
  },
  {
   "cell_type": "markdown",
   "metadata": {},
   "source": [
    "```{r}\n",
    "## genertae data from oracle\n",
    "## A,W are fitted from poisson models\n",
    "generateForacle <- function(A,W, seed = 0){\n",
    "    E = .Machine$integer.max ## too large poisson mean will cause NAs\n",
    "    set.seed(seed)\n",
    "    Lam = A %*% W\n",
    "    Lam[which(Lam > E)] = E\n",
    "    p = nrow(Lam)\n",
    "    n = ncol(Lam)\n",
    "    X = matrix(rpois(n*p,Lam), nrow = p)\n",
    "    return(X)\n",
    "}\n",
    "```"
   ]
  },
  {
   "cell_type": "code",
   "execution_count": 7,
   "metadata": {},
   "outputs": [],
   "source": [
    "X = generateForacle(F,t(L)) ## X is slightly different from the results above, as I replaced too big numbers with `.Machine$integer.max/100`"
   ]
  },
  {
   "cell_type": "markdown",
   "metadata": {},
   "source": [
    "#### Compare document size"
   ]
  },
  {
   "cell_type": "code",
   "execution_count": 16,
   "metadata": {},
   "outputs": [
    {
     "data": {
      "text/plain": [
       "     Min.   1st Qu.    Median      Mean   3rd Qu.      Max. \n",
       "  9828059  49557227  57585524  60329883  68234015 478451074 "
      ]
     },
     "metadata": {},
     "output_type": "display_data"
    }
   ],
   "source": [
    "Lam_colsum = colSums(Lam)\n",
    "summary(Lam_colsum)"
   ]
  },
  {
   "cell_type": "code",
   "execution_count": 22,
   "metadata": {},
   "outputs": [
    {
     "data": {
      "text/plain": [
       "     Min.   1st Qu.    Median      Mean   3rd Qu.      Max. \n",
       "  9828067  49557830  57583286  60329884  68234224 478454146 "
      ]
     },
     "metadata": {},
     "output_type": "display_data"
    }
   ],
   "source": [
    "summary(rowSums(counts))"
   ]
  },
  {
   "cell_type": "code",
   "execution_count": 44,
   "metadata": {},
   "outputs": [
    {
     "data": {
      "text/plain": [
       "     Min.   1st Qu.    Median      Mean   3rd Qu.      Max. \n",
       "  9829089  49564516  57581068  60329851  68230839 478483220 "
      ]
     },
     "metadata": {},
     "output_type": "display_data"
    }
   ],
   "source": [
    "summary(colSums(X))"
   ]
  },
  {
   "cell_type": "markdown",
   "metadata": {},
   "source": [
    "#### Compare elements "
   ]
  },
  {
   "cell_type": "code",
   "execution_count": 27,
   "metadata": {},
   "outputs": [
    {
     "data": {
      "text/plain": [
       "    Min.  1st Qu.   Median     Mean  3rd Qu.     Max. \n",
       "       0        0        1     1080      133 25532161 "
      ]
     },
     "metadata": {},
     "output_type": "display_data"
    }
   ],
   "source": [
    "summary(as.vector(Lam))"
   ]
  },
  {
   "cell_type": "code",
   "execution_count": 28,
   "metadata": {},
   "outputs": [
    {
     "data": {
      "text/plain": [
       "    Min.  1st Qu.   Median     Mean  3rd Qu.     Max. \n",
       "       0        0        1     1080      102 27195665 "
      ]
     },
     "metadata": {},
     "output_type": "display_data"
    }
   ],
   "source": [
    "summary(as.vector(counts))"
   ]
  },
  {
   "cell_type": "code",
   "execution_count": 45,
   "metadata": {},
   "outputs": [
    {
     "data": {
      "text/plain": [
       "    Min.  1st Qu.   Median     Mean  3rd Qu.     Max. \n",
       "       0        0        1     1080      133 25533852 "
      ]
     },
     "metadata": {},
     "output_type": "display_data"
    }
   ],
   "source": [
    "summary(as.vector(X))"
   ]
  },
  {
   "cell_type": "markdown",
   "metadata": {},
   "source": [
    "### Visualize X, Lam, true counts"
   ]
  },
  {
   "cell_type": "code",
   "execution_count": 10,
   "metadata": {},
   "outputs": [
    {
     "data": {
      "image/png": "[encoded data removed]",
      "text/plain": [
       "plot without title"
      ]
     },
     "metadata": {},
     "output_type": "display_data"
    }
   ],
   "source": [
    "## there are too many points to render at once, so I sample a few hundreds samples to visualize\n",
    "sample_idx = sample(1:ncol(X), 200,replace = FALSE)\n",
    "plot(Lam[,sample_idx],t(counts)[,sample_idx])"
   ]
  },
  {
   "cell_type": "code",
   "execution_count": null,
   "metadata": {},
   "outputs": [],
   "source": [
    "plot(X[,sample_idx],t(counts)[,sample_idx])"
   ]
  },
  {
   "cell_type": "markdown",
   "metadata": {},
   "source": [
    "### Comment:\n",
    "The Lam, generated X seem to both agree with true counts"
   ]
  },
  {
   "cell_type": "markdown",
   "metadata": {},
   "source": [
    "### Below I recomputed loglikelihood"
   ]
  },
  {
   "cell_type": "code",
   "execution_count": 46,
   "metadata": {},
   "outputs": [
    {
     "data": {
      "text/html": [
       "<dl>\n",
       "\t<dt>$type</dt>\n",
       "\t\t<dd>'poisson'</dd>\n",
       "\t<dt>$multinom_ll</dt>\n",
       "\t\t<dd>-5535266008318.09</dd>\n",
       "\t<dt>$pois_ll</dt>\n",
       "\t\t<dd>-2.1088471629959</dd>\n",
       "</dl>\n"
      ],
      "text/latex": [
       "\\begin{description}\n",
       "\\item[\\$type] 'poisson'\n",
       "\\item[\\$multinom\\_ll] -5535266008318.09\n",
       "\\item[\\$pois\\_ll] -2.1088471629959\n",
       "\\end{description}\n"
      ],
      "text/markdown": [
       "$type\n",
       ":   'poisson'\n",
       "$multinom_ll\n",
       ":   -5535266008318.09\n",
       "$pois_ll\n",
       ":   -2.1088471629959\n",
       "\n",
       "\n"
      ],
      "text/plain": [
       "$type\n",
       "[1] \"poisson\"\n",
       "\n",
       "$multinom_ll\n",
       "[1] -5.535266e+12\n",
       "\n",
       "$pois_ll\n",
       "[1] -2.108847\n"
      ]
     },
     "metadata": {},
     "output_type": "display_data"
    }
   ],
   "source": [
    "## orcale | simulated data\n",
    "compute_ll(X,F,t(L))"
   ]
  },
  {
   "cell_type": "code",
   "execution_count": 26,
   "metadata": {},
   "outputs": [
    {
     "data": {
      "text/html": [
       "<dl>\n",
       "\t<dt>$type</dt>\n",
       "\t\t<dd>'poisson'</dd>\n",
       "\t<dt>$multinom_ll</dt>\n",
       "\t\t<dd>-5527555982054.79</dd>\n",
       "\t<dt>$pois_ll</dt>\n",
       "\t\t<dd>-115.584061399643</dd>\n",
       "</dl>\n"
      ],
      "text/latex": [
       "\\begin{description}\n",
       "\\item[\\$type] 'poisson'\n",
       "\\item[\\$multinom\\_ll] -5527555982054.79\n",
       "\\item[\\$pois\\_ll] -115.584061399643\n",
       "\\end{description}\n"
      ],
      "text/markdown": [
       "$type\n",
       ":   'poisson'\n",
       "$multinom_ll\n",
       ":   -5527555982054.79\n",
       "$pois_ll\n",
       ":   -115.584061399643\n",
       "\n",
       "\n"
      ],
      "text/plain": [
       "$type\n",
       "[1] \"poisson\"\n",
       "\n",
       "$multinom_ll\n",
       "[1] -5.527556e+12\n",
       "\n",
       "$pois_ll\n",
       "[1] -115.5841\n"
      ]
     },
     "metadata": {},
     "output_type": "display_data"
    }
   ],
   "source": [
    "## nnmf model | GTEx\n",
    "compute_ll(t(counts),F,t(L))"
   ]
  },
  {
   "cell_type": "code",
   "execution_count": 1,
   "metadata": {},
   "outputs": [
    {
     "ename": "ERROR",
     "evalue": "Error in eval(expr, envir, enclos): object 'L' not found\n",
     "output_type": "error",
     "traceback": [
      "Error in eval(expr, envir, enclos): object 'L' not found\nTraceback:\n"
     ]
    }
   ],
   "source": [
    "dim(L)"
   ]
  },
  {
   "cell_type": "markdown",
   "metadata": {},
   "source": [
    "## Look more closely at poisson loglikelihood"
   ]
  },
  {
   "cell_type": "code",
   "execution_count": 8,
   "metadata": {},
   "outputs": [
    {
     "name": "stdout",
     "output_type": "stream",
     "text": [
      "[1] \"median of loglikelihood: oracle given X VS oracle given GTEx\"\n",
      "[1] -1.597184\n",
      "[1] -1.722693\n"
     ]
    }
   ],
   "source": [
    "pois_ll_matrix <- function(X,Lam){\n",
    "    return(dpois(X,Lam, log = TRUE))\n",
    "}\n",
    "\n",
    "ll_oracle_X = pois_ll_matrix(X,Lam)\n",
    "ll_oracle_counts = pois_ll_matrix(t(counts),Lam)\n",
    "\n",
    "print(\"median of loglikelihood: oracle given X VS oracle given GTEx\")\n",
    "print(median(ll_oracle_X))\n",
    "print(median(ll_oracle_counts))\n",
    "\n",
    "saveRDS(ll_oracle_X, \"../../topics-simulation-bigdata/output/ll_oracle_X.rds\")\n",
    "saveRDS(ll_oracle_counts, \"../../topics-simulation-bigdata/output/ll_oracle_counts.rds\")"
   ]
  },
  {
   "cell_type": "markdown",
   "metadata": {},
   "source": [
    "### test dpois"
   ]
  },
  {
   "cell_type": "code",
   "execution_count": null,
   "metadata": {},
   "outputs": [],
   "source": [
    "pp_l <- function(x,lambda){\n",
    "    return(log(exp(-lambda)*lambda^x/factorial(x)))\n",
    "}\n",
    "testX = matrix(c(1,2,3,4), nrow = 2)\n",
    "Lambda = matrix(c(10,20,30,40), nrow = 2)\n",
    "print(sum(dpois(testX,Lambda, log = TRUE)))\n",
    "print(sum(pp_l(testX,Lambda)))"
   ]
  },
  {
   "cell_type": "code",
   "execution_count": null,
   "metadata": {},
   "outputs": [],
   "source": []
  }
 ],
 "metadata": {
  "kernelspec": {
   "display_name": "R",
   "language": "R",
   "name": "ir"
  },
  "language_info": {
   "codemirror_mode": "r",
   "file_extension": ".r",
   "mimetype": "text/x-r-source",
   "name": "R",
   "pygments_lexer": "r",
   "version": "3.5.1"
  }
 },
 "nbformat": 4,
 "nbformat_minor": 2
}
