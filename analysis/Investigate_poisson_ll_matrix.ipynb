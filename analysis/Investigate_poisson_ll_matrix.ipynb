{
 "cells": [
  {
   "cell_type": "markdown",
   "metadata": {},
   "source": [
    "## Goal:\n",
    "The topic model fit of GTEx has a huge difference between mean and median of the poisson loglikelihood. I want to find out which counts cause the low loglikelihood. "
   ]
  },
  {
   "cell_type": "code",
   "execution_count": 1,
   "metadata": {},
   "outputs": [],
   "source": [
    "data_dir = file.path(\"../../topics_bigdata\", \"output\")\n",
    "poiss_ll_file = \"gtex_nnmf_poissll.csv\""
   ]
  },
  {
   "cell_type": "code",
   "execution_count": 2,
   "metadata": {},
   "outputs": [],
   "source": [
    "library(readr)\n",
    "source(file.path(\"..\",\"code\",\"misc.R\"))\n",
    "source(file.path(\"..\",\"code\",\"utility.R\"))"
   ]
  },
  {
   "cell_type": "code",
   "execution_count": 3,
   "metadata": {},
   "outputs": [],
   "source": [
    "poiss_ll_file = file.path(data_dir,poiss_ll_file)\n",
    "p_matrix = read.csv.matrix(poiss_ll_file)\n",
    "P = nrow(p_matrix)\n",
    "N = ncol(p_matrix)"
   ]
  },
  {
   "cell_type": "code",
   "execution_count": 4,
   "metadata": {},
   "outputs": [
    {
     "data": {
      "text/html": [
       "'mean : -115.584061'"
      ],
      "text/latex": [
       "'mean : -115.584061'"
      ],
      "text/markdown": [
       "'mean : -115.584061'"
      ],
      "text/plain": [
       "[1] \"mean : -115.584061\""
      ]
     },
     "metadata": {},
     "output_type": "display_data"
    },
    {
     "data": {
      "text/html": [
       "'median : -1.722700'"
      ],
      "text/latex": [
       "'median : -1.722700'"
      ],
      "text/markdown": [
       "'median : -1.722700'"
      ],
      "text/plain": [
       "[1] \"median : -1.722700\""
      ]
     },
     "metadata": {},
     "output_type": "display_data"
    }
   ],
   "source": [
    "sprintf(\"mean : %f\", mean(p_matrix))\n",
    "sprintf(\"median : %f\", median(p_matrix))"
   ]
  },
  {
   "cell_type": "markdown",
   "metadata": {},
   "source": [
    "### Comment\n",
    "There is a huge difference between median and mean, which is not seen in simulated data (-2.9 vs -1.5)"
   ]
  },
  {
   "cell_type": "code",
   "execution_count": 5,
   "metadata": {},
   "outputs": [
    {
     "data": {
      "text/html": [
       "'quantile:'"
      ],
      "text/latex": [
       "'quantile:'"
      ],
      "text/markdown": [
       "'quantile:'"
      ],
      "text/plain": [
       "[1] \"quantile:\""
      ]
     },
     "metadata": {},
     "output_type": "display_data"
    },
    {
     "data": {
      "text/html": [
       "<dl class=dl-horizontal>\n",
       "\t<dt>0%</dt>\n",
       "\t\t<dd>-23137681.123</dd>\n",
       "\t<dt>10%</dt>\n",
       "\t\t<dd>-64.8862699999996</dd>\n",
       "\t<dt>20%</dt>\n",
       "\t\t<dd>-14.8572</dd>\n",
       "\t<dt>30%</dt>\n",
       "\t\t<dd>-5.7524</dd>\n",
       "\t<dt>40%</dt>\n",
       "\t\t<dd>-3.1528</dd>\n",
       "\t<dt>50%</dt>\n",
       "\t\t<dd>-1.7227</dd>\n",
       "\t<dt>60%</dt>\n",
       "\t\t<dd>-0.5406</dd>\n",
       "\t<dt>70%</dt>\n",
       "\t\t<dd>-0.1187</dd>\n",
       "\t<dt>80%</dt>\n",
       "\t\t<dd>-0.0302</dd>\n",
       "\t<dt>90%</dt>\n",
       "\t\t<dd>-0.0054</dd>\n",
       "\t<dt>100%</dt>\n",
       "\t\t<dd>0</dd>\n",
       "</dl>\n"
      ],
      "text/latex": [
       "\\begin{description*}\n",
       "\\item[0\\textbackslash{}\\%] -23137681.123\n",
       "\\item[10\\textbackslash{}\\%] -64.8862699999996\n",
       "\\item[20\\textbackslash{}\\%] -14.8572\n",
       "\\item[30\\textbackslash{}\\%] -5.7524\n",
       "\\item[40\\textbackslash{}\\%] -3.1528\n",
       "\\item[50\\textbackslash{}\\%] -1.7227\n",
       "\\item[60\\textbackslash{}\\%] -0.5406\n",
       "\\item[70\\textbackslash{}\\%] -0.1187\n",
       "\\item[80\\textbackslash{}\\%] -0.0302\n",
       "\\item[90\\textbackslash{}\\%] -0.0054\n",
       "\\item[100\\textbackslash{}\\%] 0\n",
       "\\end{description*}\n"
      ],
      "text/markdown": [
       "0%\n",
       ":   -23137681.12310%\n",
       ":   -64.886269999999620%\n",
       ":   -14.857230%\n",
       ":   -5.752440%\n",
       ":   -3.152850%\n",
       ":   -1.722760%\n",
       ":   -0.540670%\n",
       ":   -0.118780%\n",
       ":   -0.030290%\n",
       ":   -0.0054100%\n",
       ":   0\n",
       "\n"
      ],
      "text/plain": [
       "           0%           10%           20%           30%           40% \n",
       "-2.313768e+07 -6.488627e+01 -1.485720e+01 -5.752400e+00 -3.152800e+00 \n",
       "          50%           60%           70%           80%           90% \n",
       "-1.722700e+00 -5.406000e-01 -1.187000e-01 -3.020000e-02 -5.400000e-03 \n",
       "         100% \n",
       " 0.000000e+00 "
      ]
     },
     "metadata": {},
     "output_type": "display_data"
    }
   ],
   "source": [
    "sprintf(\"quantile:\")\n",
    "quantile(p_matrix, probs = seq(0, 1, by= 0.1)) "
   ]
  },
  {
   "cell_type": "code",
   "execution_count": 6,
   "metadata": {},
   "outputs": [
    {
     "data": {
      "text/html": [
       "<dl class=dl-horizontal>\n",
       "\t<dt>0%</dt>\n",
       "\t\t<dd>-23137681.123</dd>\n",
       "\t<dt>1%</dt>\n",
       "\t\t<dd>-1384.881928</dd>\n",
       "\t<dt>2%</dt>\n",
       "\t\t<dd>-634.238</dd>\n",
       "\t<dt>3%</dt>\n",
       "\t\t<dd>-386.692271</dd>\n",
       "\t<dt>4%</dt>\n",
       "\t\t<dd>-265.9393</dd>\n",
       "\t<dt>5%</dt>\n",
       "\t\t<dd>-195.426</dd>\n",
       "\t<dt>6%</dt>\n",
       "\t\t<dd>-149.8486</dd>\n",
       "\t<dt>7%</dt>\n",
       "\t\t<dd>-118.2985</dd>\n",
       "\t<dt>8%</dt>\n",
       "\t\t<dd>-95.3951</dd>\n",
       "\t<dt>9%</dt>\n",
       "\t\t<dd>-78.1814</dd>\n",
       "\t<dt>10%</dt>\n",
       "\t\t<dd>-64.8862699999996</dd>\n",
       "</dl>\n"
      ],
      "text/latex": [
       "\\begin{description*}\n",
       "\\item[0\\textbackslash{}\\%] -23137681.123\n",
       "\\item[1\\textbackslash{}\\%] -1384.881928\n",
       "\\item[2\\textbackslash{}\\%] -634.238\n",
       "\\item[3\\textbackslash{}\\%] -386.692271\n",
       "\\item[4\\textbackslash{}\\%] -265.9393\n",
       "\\item[5\\textbackslash{}\\%] -195.426\n",
       "\\item[6\\textbackslash{}\\%] -149.8486\n",
       "\\item[7\\textbackslash{}\\%] -118.2985\n",
       "\\item[8\\textbackslash{}\\%] -95.3951\n",
       "\\item[9\\textbackslash{}\\%] -78.1814\n",
       "\\item[10\\textbackslash{}\\%] -64.8862699999996\n",
       "\\end{description*}\n"
      ],
      "text/markdown": [
       "0%\n",
       ":   -23137681.1231%\n",
       ":   -1384.8819282%\n",
       ":   -634.2383%\n",
       ":   -386.6922714%\n",
       ":   -265.93935%\n",
       ":   -195.4266%\n",
       ":   -149.84867%\n",
       ":   -118.29858%\n",
       ":   -95.39519%\n",
       ":   -78.181410%\n",
       ":   -64.8862699999996\n",
       "\n"
      ],
      "text/plain": [
       "           0%            1%            2%            3%            4% \n",
       "-2.313768e+07 -1.384882e+03 -6.342380e+02 -3.866923e+02 -2.659393e+02 \n",
       "           5%            6%            7%            8%            9% \n",
       "-1.954260e+02 -1.498486e+02 -1.182985e+02 -9.539510e+01 -7.818140e+01 \n",
       "          10% \n",
       "-6.488627e+01 "
      ]
     },
     "metadata": {},
     "output_type": "display_data"
    }
   ],
   "source": [
    "quantile(p_matrix, probs = seq(0, 0.1, by= 0.01)) "
   ]
  },
  {
   "cell_type": "markdown",
   "metadata": {},
   "source": [
    "### Comment\n",
    "Only worst `6%` fitted counts are above the poisson mean.Let's see what they are."
   ]
  },
  {
   "cell_type": "code",
   "execution_count": 21,
   "metadata": {},
   "outputs": [],
   "source": [
    "report <- function(qt,p_matrix, n = N,p = P){\n",
    "    thres = quantile(p_matrix, probs = c(qt))[[1]]\n",
    "    cat(sprintf(\"Below Threshold: %f is `bad` \\n\", thres))\n",
    "    BelowThres.indx = which(p_matrix < thres, arr.ind = T)\n",
    "    BelowThres_sample = unique(BelowThres.indx[,2])\n",
    "    cat(sprintf(\"num of bad samples: %d, %s in percentage \\n\", length(BelowThres_sample),\n",
    "            percent(length(BelowThres_sample)/n)))\n",
    "    BelowThres_feature = unique(BelowThres.indx[,1])\n",
    "    cat(sprintf(\"num of bad features: %d, %s in percentage \\n\", length(BelowThres_feature),\n",
    "            percent(length(BelowThres_feature)/p)))\n",
    "    return(BelowThres.indx)\n",
    "}"
   ]
  },
  {
   "cell_type": "code",
   "execution_count": 22,
   "metadata": {},
   "outputs": [
    {
     "name": "stdout",
     "output_type": "stream",
     "text": [
      "Below Threshold: -118.298500 is `bad` \n",
      "num of bad samples: 11688, 100.00% in percentage \n",
      "num of bad features: 31465, 56.33% in percentage \n"
     ]
    }
   ],
   "source": [
    "b1 = report(0.07,p_matrix)"
   ]
  },
  {
   "cell_type": "code",
   "execution_count": 23,
   "metadata": {},
   "outputs": [
    {
     "name": "stdout",
     "output_type": "stream",
     "text": [
      "Below Threshold: -634.238000 is `bad` \n",
      "num of bad samples: 11688, 100.00% in percentage \n",
      "num of bad features: 22801, 40.82% in percentage \n"
     ]
    }
   ],
   "source": [
    "b2 = report(0.02,p_matrix)"
   ]
  },
  {
   "cell_type": "code",
   "execution_count": 24,
   "metadata": {},
   "outputs": [
    {
     "name": "stdout",
     "output_type": "stream",
     "text": [
      "Below Threshold: -13065.693892 is `bad` \n",
      "num of bad samples: 11673, 99.87% in percentage \n",
      "num of bad features: 7999, 14.32% in percentage \n"
     ]
    }
   ],
   "source": [
    "b3 = report(0.001, p_matrix)"
   ]
  },
  {
   "cell_type": "markdown",
   "metadata": {},
   "source": [
    "## Size of the counts of the bad fit"
   ]
  },
  {
   "cell_type": "code",
   "execution_count": 6,
   "metadata": {},
   "outputs": [],
   "source": [
    "data_file = \"gtex.csv\"\n",
    "data_file = file.path(data_dir,data_file)\n",
    "counts = read.csv.matrix(data_file)"
   ]
  },
  {
   "cell_type": "code",
   "execution_count": 27,
   "metadata": {},
   "outputs": [
    {
     "data": {
      "image/png": "[encoded data removed]",
      "text/plain": [
       "Plot with title “histogram of GTEx”"
      ]
     },
     "metadata": {},
     "output_type": "display_data"
    }
   ],
   "source": [
    "p1 = hist(log(counts), xlab = \"log of counts\", main = \"histogram of GTEx\")"
   ]
  },
  {
   "cell_type": "code",
   "execution_count": 26,
   "metadata": {},
   "outputs": [
    {
     "data": {
      "image/png": "[encoded data removed]",
      "text/plain": [
       "Plot with title “histogram of bad fit”"
      ]
     },
     "metadata": {},
     "output_type": "display_data"
    }
   ],
   "source": [
    "hist(log(counts[t(b1)]), xlab = \"log of counts\", main = \"histogram of bad fit\")"
   ]
  },
  {
   "cell_type": "code",
   "execution_count": null,
   "metadata": {},
   "outputs": [],
   "source": []
  },
  {
   "cell_type": "code",
   "execution_count": null,
   "metadata": {},
   "outputs": [],
   "source": []
  }
 ],
 "metadata": {
  "kernelspec": {
   "display_name": "R",
   "language": "R",
   "name": "ir"
  },
  "language_info": {
   "codemirror_mode": "r",
   "file_extension": ".r",
   "mimetype": "text/x-r-source",
   "name": "R",
   "pygments_lexer": "r",
   "version": "3.5.1"
  }
 },
 "nbformat": 4,
 "nbformat_minor": 2
}
