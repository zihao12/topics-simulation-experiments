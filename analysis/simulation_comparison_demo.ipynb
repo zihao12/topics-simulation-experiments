{
 "cells": [
  {
   "cell_type": "markdown",
   "metadata": {},
   "source": [
    "## Goal and Methods\n",
    "\n",
    "* I want to investigate how well the current topic modeling methods can optimize their objective function (negative poisson loglikelihood, or beta divergence here). \n",
    "\n",
    "* Therefore, I hope to apply topic modeling methods to realistic data, while also knowing the underlying distribution of the data. \n",
    "\n",
    "* To achieve this, I first fit a model on some realistic data (simulated here), then generate new data from this \"oracle\" model. Then I apply topic modeling methods and compare their performance against the oracle model.  "
   ]
  },
  {
   "cell_type": "code",
   "execution_count": 1,
   "metadata": {},
   "outputs": [],
   "source": [
    "library(NNLM)\n",
    "library(maptpx)\n",
    "library(Matrix)\n",
    "set.seed(12345)\n"
   ]
  },
  {
   "cell_type": "markdown",
   "metadata": {},
   "source": [
    "## utility functions"
   ]
  },
  {
   "cell_type": "code",
   "execution_count": 2,
   "metadata": {},
   "outputs": [],
   "source": [
    "simulate_pois <- function(n,p,k, seed = 0){\n",
    "    set.seed(seed)\n",
    "    A = matrix(rnorm(p*k, 0,1), nrow = p)\n",
    "    W = matrix(rnorm(k*n, 0,1), nrow = k)\n",
    "    lam = exp(A) %*% exp(W)\n",
    "    X = matrix(rpois(n*p,lam), nrow = p)\n",
    "    return(list(X = X, lam = lam))\n",
    "}\n",
    "\n",
    "pois_lk <- function(X,lam){\n",
    "    return(sum(dpois(X,lam, log= TRUE)))\n",
    "}\n",
    "\n",
    "generateForacle <- function(A,W, seed = 0){\n",
    "    set.seed(seed)\n",
    "    Lam = A %*% W\n",
    "    p = nrow(Lam)\n",
    "    n = ncol(Lam)\n",
    "    X = matrix(rpois(n*p,Lam), nrow = p)\n",
    "    return(X)\n",
    "}\n",
    "\n",
    "## compute poisson loglikelihood from fir of multinomial model\n",
    "multinom2poisson_ll <- function(X,A,W){\n",
    "    Lam  = A %*% W %*% diag(colSums(X))\n",
    "    ll = pois_lk(X,Lam)\n",
    "}"
   ]
  },
  {
   "cell_type": "markdown",
   "metadata": {},
   "source": [
    "## generate new data from true data"
   ]
  },
  {
   "cell_type": "code",
   "execution_count": 3,
   "metadata": {},
   "outputs": [],
   "source": [
    "## \"true\" data\n",
    "n = 1000\n",
    "p = 5000\n",
    "k = 5\n",
    "X0 = simulate_pois(n,p,k)$X\n",
    "\n",
    "## fit model to \"true\" data\n",
    "oracle = nnmf(X0,k,method = \"scd\", loss = \"mkl\", rel.tol = 1e-3, \n",
    "           n.threads = 0, max.iter = 200, \n",
    "           inner.max.iter = 4,trace = 1,verbose = 0)\n",
    "\n",
    "## generate data from oracle\n",
    "Xnew = generateForacle(oracle$W,oracle$H)"
   ]
  },
  {
   "cell_type": "markdown",
   "metadata": {},
   "source": [
    "## Fit NNLM"
   ]
  },
  {
   "cell_type": "code",
   "execution_count": 4,
   "metadata": {},
   "outputs": [
    {
     "name": "stderr",
     "output_type": "stream",
     "text": [
      "Warning message in system.time(out <- .Call(\"NNLM_nnmf\", A, as.integer(k), init.mask$Wi, :\n",
      "“Target tolerance not reached. Try a larger max.iter.”"
     ]
    },
    {
     "name": "stdout",
     "output_type": "stream",
     "text": [
      "[1] \"time elapsed: 321.727\" \"time elapsed: 2.728\"   \"time elapsed: 82.303\" \n",
      "[4] \"time elapsed: 0\"       \"time elapsed: 0\"      \n"
     ]
    }
   ],
   "source": [
    "start = proc.time()\n",
    "fit_nnlm = nnmf(Xnew,k,method = \"scd\", loss = \"mkl\", rel.tol = 1e-8, \n",
    "           n.threads = 0, max.iter = 200, \n",
    "           inner.max.iter = 4,trace = 1,verbose = 0)\n",
    "print(paste0(\"time elapsed: \", proc.time() - start))"
   ]
  },
  {
   "cell_type": "markdown",
   "metadata": {},
   "source": [
    "## Fit maptpx"
   ]
  },
  {
   "cell_type": "code",
   "execution_count": 5,
   "metadata": {},
   "outputs": [
    {
     "name": "stdout",
     "output_type": "stream",
     "text": [
      "\n",
      "Estimating on a 1000 samples collection.\n",
      "Fitting the 5 clusters/topics model.\n",
      "log posterior increase: 116808.7747, 389378.9005, 194624.9315, 132295.758, 16751.1029, 4341.4211, 1612.0923, 739.7867, 391.4155, 228.671, 141.735, 93.1668, 64.0424, 45.9141, 34.0384, 25.8792, 20.0704, 15.8548, 12.7583, 10.4535, done. (L = -586334149.7618)\n",
      "[1] \"time elapsed: 72.682\" \"time elapsed: 7.84\"   \"time elapsed: 80.448\"\n",
      "[4] \"time elapsed: 0\"      \"time elapsed: 0\"     \n"
     ]
    }
   ],
   "source": [
    "start = proc.time()\n",
    "fit_maptpx <- topics(t(Xnew),k,shape = 0.1,tol = 1e-4,\n",
    "                tmax = 100,verb = 2)\n",
    "print(paste0(\"time elapsed: \", proc.time() - start))"
   ]
  },
  {
   "cell_type": "markdown",
   "metadata": {},
   "source": [
    "## Compare poisson loglikelihood"
   ]
  },
  {
   "cell_type": "code",
   "execution_count": 6,
   "metadata": {},
   "outputs": [
    {
     "name": "stdout",
     "output_type": "stream",
     "text": [
      "[1] \"oracle loglikelihood  : -12815132.3336176\"\n",
      "[1] \"nnlm loglikelihood    : -12799974.3919854\"\n",
      "[1] \"maptpx loglikelihood  : -12800401.0190685\"\n"
     ]
    }
   ],
   "source": [
    "print(paste0(\"oracle loglikelihood  : \", pois_lk(Xnew,oracle$W %*% oracle$H)))\n",
    "print(paste0(\"nnlm loglikelihood    : \", pois_lk(Xnew,fit_nnlm$W %*% fit_nnlm$H)))\n",
    "print(paste0(\"maptpx loglikelihood  : \", \n",
    "             multinom2poisson_ll(Xnew,fit_maptpx$theta,t(fit_maptpx$omega))))"
   ]
  },
  {
   "cell_type": "markdown",
   "metadata": {},
   "source": [
    "## Summary\n",
    "* This shows the pipeline of the simulation experiments. \n",
    "* From this toy \"true\" data, we see that both NNLM and maptpx outcompetes oracle. They are overfitting the data, therefore the optimization problem may not be the issue.  \n",
    "* It remains to see how they perform when the data is generated from some complicated real world sources. "
   ]
  },
  {
   "cell_type": "code",
   "execution_count": 12,
   "metadata": {},
   "outputs": [],
   "source": [
    "write.csv(as.data.frame(t(Xnew)), \"../../topics-simulation-bigdata/output/test2.csv\")"
   ]
  },
  {
   "cell_type": "code",
   "execution_count": null,
   "metadata": {},
   "outputs": [],
   "source": []
  }
 ],
 "metadata": {
  "kernelspec": {
   "display_name": "R",
   "language": "R",
   "name": "ir"
  },
  "language_info": {
   "codemirror_mode": "r",
   "file_extension": ".r",
   "mimetype": "text/x-r-source",
   "name": "R",
   "pygments_lexer": "r",
   "version": "3.5.1"
  }
 },
 "nbformat": 4,
 "nbformat_minor": 2
}
