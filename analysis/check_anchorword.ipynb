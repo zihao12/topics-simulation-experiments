{
 "cells": [
  {
   "cell_type": "markdown",
   "metadata": {},
   "source": [
    "## Goal:\n",
    "I want to see if my fitted topics have anchor words for all its topics. \n",
    "\n",
    "## Result:\n",
    "# Comment:\n",
    "The fitted topic does not quite follow the anchor word assumption.\n",
    "\n",
    "Why? For a few topics, the most dominant genes are also dominant in other topics"
   ]
  },
  {
   "cell_type": "code",
   "execution_count": 2,
   "metadata": {},
   "outputs": [
    {
     "name": "stdout",
     "output_type": "stream",
     "text": [
      "Loading factors and loadings.\n",
      "Loaded 55863 x 20 factors matrix, and 11688 x 20 loadings matrix\n",
      "3.6.8 |Anaconda, Inc.| (default, Dec 29 2018, 19:04:46) \n",
      "[GCC 4.2.1 Compatible Clang 4.0.1 (tags/RELEASE_401/final)]\n",
      "numpy 1.14.2\n"
     ]
    }
   ],
   "source": [
    "## get all the Anchor words of a factor\n",
    "\n",
    "dataname = \"gtex\"\n",
    "method = \"ccd\"\n",
    "\n",
    "import sys\n",
    "sys.path.insert(0, \"../code\")\n",
    "import os\n",
    "import time\n",
    "import numpy as np\n",
    "from numpy import loadtxt\n",
    "from numpy import savetxt\n",
    "from time  import time\n",
    "from misc import poisson2multinom \n",
    "\n",
    "\n",
    "# SCRIPT SETTINGS\n",
    "# ---------------\n",
    "# These variables specify the names of the input files.\n",
    "datadir          = os.path.join(\"../../topics_bigdata/\",\"output\")\n",
    "factorsfile  = \"{}_factors_{}.csv.gz\".format(dataname, method)\n",
    "loadingsfile  = \"{}_loadings_{}.csv.gz\".format(dataname, method)\n",
    "\n",
    "\n",
    "# These variables specify the names of the output files.\n",
    "#outdir          = os.path.join(\"./../topics-simulation-bigdata/\",\"output\")\n",
    "\n",
    "\n",
    "# LOAD INITIAL ESTIMATES\n",
    "# ----------------------\n",
    "# I add a small constant to the initial estimates of the factors and\n",
    "# loadings because the multiplicative updates do not deal well with\n",
    "# estimates that are exactly zero.\n",
    "print(\"Loading factors and loadings.\")\n",
    "factorsfile  = os.path.join(datadir,factorsfile)\n",
    "loadingsfile = os.path.join(datadir,loadingsfile)\n",
    "F = loadtxt(factorsfile,delimiter = \",\")\n",
    "L = loadtxt(loadingsfile,delimiter = \",\")\n",
    "K  = F.shape[1]\n",
    "\n",
    "print(\"Loaded {:d} x {:d} factors matrix, \".format(F.shape[0],F.shape[1]) +\n",
    "      \"and {:d} x {:d} loadings matrix\".format(L.shape[0],L.shape[1]))\n",
    "# SESSION INFO\n",
    "# ------------\n",
    "print(sys.version)\n",
    "print(\"numpy \" + np.__version__)"
   ]
  },
  {
   "cell_type": "code",
   "execution_count": null,
   "metadata": {},
   "outputs": [],
   "source": [
    "# Convert the Poisson model parameters to the parameters for the\n",
    "# multinomial model.\n",
    "A, _ = poisson2multinom(F,L.T)\n",
    "print(\"average proportion {}\".format((np.mean(A))))\n",
    "print(\"median proportion  {}\".format((np.median(A))))\n",
    "print(\"max proportion     {}\".format((np.max(A))))"
   ]
  },
  {
   "cell_type": "code",
   "execution_count": null,
   "metadata": {},
   "outputs": [],
   "source": [
    "ancw_counter = {}\n",
    "for i in range(K):\n",
    "    ancw_counter[i] = 0\n",
    "up = 1e-3\n",
    "dow = 1e-10\n",
    "for x in A:\n",
    "    idx = np.argsort(x)\n",
    "    if x[idx[-1]] > up and x[idx[-2]] < dow:\n",
    "        ancw_counter[idx[-1]] += 1"
   ]
  },
  {
   "cell_type": "code",
   "execution_count": null,
   "metadata": {},
   "outputs": [],
   "source": [
    "print(\"topic idx vs number of anchor word\")\n",
    "for k,v in ancw_counter.items():\n",
    "    print(\"topic {}: {} anchor words\\n\".format(k, v))"
   ]
  },
  {
   "cell_type": "markdown",
   "metadata": {},
   "source": [
    "# Comment:\n",
    "The fitted topic does not quite follow the anchor word assumption.\n",
    "\n",
    "Why? For a few topics, the most dominant genes are also dominant in other topics\n",
    "\n",
    "See below"
   ]
  },
  {
   "cell_type": "code",
   "execution_count": null,
   "metadata": {},
   "outputs": [],
   "source": [
    "for i,x in enumerate(A.T):\n",
    "    idx = np.argsort(x)\n",
    "    print(\"topic {} top genes:\\n\".format(i))\n",
    "    print(idx[-10:])\n",
    "    print(x[idx[-10:]])"
   ]
  },
  {
   "cell_type": "markdown",
   "metadata": {},
   "source": [
    "## hist of log proportion\n"
   ]
  },
  {
   "cell_type": "code",
   "execution_count": null,
   "metadata": {},
   "outputs": [],
   "source": [
    "import matplotlib.pyplot as plt\n",
    "for i, x in enumerate(A.T):\n",
    "    plt.hist(numpy.log(x), bins=100)\n",
    "    plt.title(\"topic {}\".format(i))\n",
    "    plt.show()"
   ]
  },
  {
   "cell_type": "code",
   "execution_count": null,
   "metadata": {},
   "outputs": [],
   "source": []
  }
 ],
 "metadata": {
  "kernelspec": {
   "display_name": "Python 3",
   "language": "python",
   "name": "python3"
  },
  "language_info": {
   "codemirror_mode": {
    "name": "ipython",
    "version": 3
   },
   "file_extension": ".py",
   "mimetype": "text/x-python",
   "name": "python",
   "nbconvert_exporter": "python",
   "pygments_lexer": "ipython3",
   "version": "3.6.8"
  }
 },
 "nbformat": 4,
 "nbformat_minor": 2
}
