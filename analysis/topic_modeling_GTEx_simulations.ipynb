{
 "cells": [
  {
   "cell_type": "markdown",
   "metadata": {},
   "source": [
    "## processing GTEx data\n",
    "I use the command in `../analysis/prepare_gtex.Rmd`, provided by Peter Carbonetto. \n",
    "\n",
    "## obtain oracle\n",
    "I submit `../script/fit_gtex_nnmf.sbatch` and save my results. \n",
    "\n",
    "The command for fitting the code is (initialized by L,F from a few runs of `NNLM`) \n",
    "\n",
    "```R\n",
    "fit <- nnmf(counts,K,init = list(W = L0,H = t(F0)),method = \"scd\", loss = \"mkl\",rel.tol = 1e-8,n.threads = 0,max.iter = 200,inner.max.iter = 4,trace = 1,verbose = 2))\n",
    "```\n"
   ]
  },
  {
   "cell_type": "code",
   "execution_count": null,
   "metadata": {},
   "outputs": [],
   "source": []
  }
 ],
 "metadata": {
  "kernelspec": {
   "display_name": "R",
   "language": "R",
   "name": "ir"
  },
  "language_info": {
   "codemirror_mode": "r",
   "file_extension": ".r",
   "mimetype": "text/x-r-source",
   "name": "R",
   "pygments_lexer": "r",
   "version": "3.5.1"
  }
 },
 "nbformat": 4,
 "nbformat_minor": 2
}
