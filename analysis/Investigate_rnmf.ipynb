{
 "cells": [
  {
   "cell_type": "code",
   "execution_count": 1,
   "metadata": {},
   "outputs": [],
   "source": [
    "import numpy as np\n",
    "import os\n",
    "import sys\n",
    "import time\n",
    "from ristretto.nmf import compute_nmf\n",
    "from ristretto.nmf import compute_rnmf\n",
    "module_path = os.path.abspath(os.path.join('../code'))\n",
    "from scipy.stats import poisson\n"
   ]
  },
  {
   "cell_type": "code",
   "execution_count": 2,
   "metadata": {},
   "outputs": [],
   "source": [
    "def compute_loglik(X,A,W):\n",
    "\tp,n = X.shape\n",
    "\te = np.finfo(float).eps\n",
    "\tif A.dot(W).sum(axis = 0).mean() < 2: ## multinomial model\n",
    "\t\tmethod = 'multinom'\n",
    "\t\ttheta = A.dot(W)\n",
    "\t\tmultinom_ll = (X * np.log(theta + e)).sum()\n",
    "\t\tlam = theta.dot(np.diag(X.sum(axis = 0)))\t\n",
    "\t\tpoisson_ll = poisson.logpmf(X,lam).sum()/(n*p)\t\n",
    "\telse:\n",
    "\t\tmethod = \"poisson\"\n",
    "\t\tlam = A.dot(W)\n",
    "\t\tpoisson_ll = poisson.logpmf(X,lam).sum()/(n*p)\n",
    "\n",
    "\t\tca = A.sum(axis = 0)\n",
    "\t\tAhat = A.dot(np.diag(ca**-1))\n",
    "\t\tWhat = np.diag(ca).dot(W)\n",
    "\t\tcw = What.sum(axis = 0)\n",
    "\t\tWhat = What.dot(np.diag(cw**-1))\n",
    "\t\ttheta = Ahat.dot(What)\n",
    "\t\tmultinom_ll = (X * np.log(theta + e)).sum()\n",
    "\n",
    "\treturn {\"type\":method, \"poisson_ll\":poisson_ll, \"multinom_ll\":multinom_ll}"
   ]
  },
  {
   "cell_type": "code",
   "execution_count": 3,
   "metadata": {},
   "outputs": [],
   "source": [
    "def simulate_pois(n, p, rank, seed=0):\n",
    "    np.random.seed(seed)\n",
    "    W = np.random.normal(size=(rank, n))\n",
    "    W = np.exp(W)\n",
    "    A = np.random.normal(size=(p, rank))\n",
    "    A = np.exp(A)\n",
    "    Lam = A.dot(W)\n",
    "    X = np.random.poisson(lam=Lam) \n",
    "    ll = compute_loglik(X,A,W)\n",
    "    return X, Lam, ll['poisson_ll']"
   ]
  },
  {
   "cell_type": "code",
   "execution_count": 4,
   "metadata": {},
   "outputs": [
    {
     "name": "stdout",
     "output_type": "stream",
     "text": [
      "mean poisson ll: -2.5292799193629603\n"
     ]
    }
   ],
   "source": [
    "n = 500\n",
    "p = 1000\n",
    "r = 5\n",
    "np.random.seed(123)\n",
    "X, Lam,p_ll = simulate_pois(n,p,r)\n",
    "print(\"mean poisson ll: \" + str(p_ll))"
   ]
  },
  {
   "cell_type": "code",
   "execution_count": 5,
   "metadata": {},
   "outputs": [
    {
     "data": {
      "text/plain": [
       "(1000, 500)"
      ]
     },
     "execution_count": 5,
     "metadata": {},
     "output_type": "execute_result"
    }
   ],
   "source": [
    "X.shape"
   ]
  },
  {
   "cell_type": "code",
   "execution_count": 6,
   "metadata": {},
   "outputs": [
    {
     "name": "stdout",
     "output_type": "stream",
     "text": [
      "runtime: 0.6307199001312256\n",
      "mean poisson ll: -2.5247216397905046\n"
     ]
    }
   ],
   "source": [
    "start = time.time()\n",
    "A,W = compute_nmf(X,rank=r)\n",
    "runtime = time.time() - start\n",
    "print(\"runtime: \" + str(runtime))\n",
    "ll = compute_loglik(X,A,W)\n",
    "print(\"mean poisson ll: \" + str(ll[\"poisson_ll\"]))"
   ]
  },
  {
   "cell_type": "code",
   "execution_count": 7,
   "metadata": {},
   "outputs": [
    {
     "ename": "TypeError",
     "evalue": "sequence item 0: expected str instance, type found",
     "output_type": "error",
     "traceback": [
      "\u001b[0;31m---------------------------------------------------------------------------\u001b[0m",
      "\u001b[0;31mTypeError\u001b[0m                                 Traceback (most recent call last)",
      "\u001b[0;32m<ipython-input-7-032ac45d7727>\u001b[0m in \u001b[0;36m<module>\u001b[0;34m()\u001b[0m\n\u001b[1;32m      1\u001b[0m \u001b[0mstart\u001b[0m \u001b[0;34m=\u001b[0m \u001b[0mtime\u001b[0m\u001b[0;34m.\u001b[0m\u001b[0mtime\u001b[0m\u001b[0;34m(\u001b[0m\u001b[0;34m)\u001b[0m\u001b[0;34m\u001b[0m\u001b[0m\n\u001b[0;32m----> 2\u001b[0;31m \u001b[0mA\u001b[0m\u001b[0;34m,\u001b[0m\u001b[0mW\u001b[0m \u001b[0;34m=\u001b[0m \u001b[0mcompute_rnmf\u001b[0m\u001b[0;34m(\u001b[0m\u001b[0mX\u001b[0m\u001b[0;34m,\u001b[0m\u001b[0mrank\u001b[0m\u001b[0;34m=\u001b[0m\u001b[0mr\u001b[0m\u001b[0;34m)\u001b[0m\u001b[0;34m\u001b[0m\u001b[0m\n\u001b[0m\u001b[1;32m      3\u001b[0m \u001b[0mruntime\u001b[0m \u001b[0;34m=\u001b[0m \u001b[0mtime\u001b[0m\u001b[0;34m.\u001b[0m\u001b[0mtime\u001b[0m\u001b[0;34m(\u001b[0m\u001b[0;34m)\u001b[0m \u001b[0;34m-\u001b[0m \u001b[0mstart\u001b[0m\u001b[0;34m\u001b[0m\u001b[0m\n\u001b[1;32m      4\u001b[0m \u001b[0mprint\u001b[0m\u001b[0;34m(\u001b[0m\u001b[0;34m\"runtime: \"\u001b[0m \u001b[0;34m+\u001b[0m \u001b[0mstr\u001b[0m\u001b[0;34m(\u001b[0m\u001b[0mruntime\u001b[0m\u001b[0;34m)\u001b[0m\u001b[0;34m)\u001b[0m\u001b[0;34m\u001b[0m\u001b[0m\n\u001b[1;32m      5\u001b[0m \u001b[0mll\u001b[0m \u001b[0;34m=\u001b[0m \u001b[0mcompute_loglik\u001b[0m\u001b[0;34m(\u001b[0m\u001b[0mX\u001b[0m\u001b[0;34m,\u001b[0m\u001b[0mA\u001b[0m\u001b[0;34m,\u001b[0m\u001b[0mW\u001b[0m\u001b[0;34m)\u001b[0m\u001b[0;34m\u001b[0m\u001b[0m\n",
      "\u001b[0;32m/anaconda3/lib/python3.6/site-packages/ristretto-0.1.2-py3.6.egg/ristretto/nmf.py\u001b[0m in \u001b[0;36mcompute_rnmf\u001b[0;34m(A, rank, oversample, n_subspace, init, shuffle, l2_reg_H, l2_reg_W, l1_reg_H, l1_reg_W, tol, maxiter, random_state)\u001b[0m\n\u001b[1;32m    308\u001b[0m     \u001b[0;32mif\u001b[0m \u001b[0mA\u001b[0m\u001b[0;34m.\u001b[0m\u001b[0mdtype\u001b[0m \u001b[0;32mnot\u001b[0m \u001b[0;32min\u001b[0m \u001b[0m_VALID_DTYPES\u001b[0m\u001b[0;34m:\u001b[0m\u001b[0;34m\u001b[0m\u001b[0m\n\u001b[1;32m    309\u001b[0m         raise ValueError('A.dtype must be one of %s, not %s'\n\u001b[0;32m--> 310\u001b[0;31m                          % (' '.join(_VALID_DTYPES), A.dtype))\n\u001b[0m\u001b[1;32m    311\u001b[0m \u001b[0;34m\u001b[0m\u001b[0m\n\u001b[1;32m    312\u001b[0m     \u001b[0;32mif\u001b[0m \u001b[0mnp\u001b[0m\u001b[0;34m.\u001b[0m\u001b[0many\u001b[0m\u001b[0;34m(\u001b[0m\u001b[0mA\u001b[0m \u001b[0;34m<\u001b[0m \u001b[0;36m0\u001b[0m\u001b[0;34m)\u001b[0m\u001b[0;34m:\u001b[0m\u001b[0;34m\u001b[0m\u001b[0m\n",
      "\u001b[0;31mTypeError\u001b[0m: sequence item 0: expected str instance, type found"
     ]
    }
   ],
   "source": [
    "start = time.time()\n",
    "A,W = compute_rnmf(X,rank=r)\n",
    "runtime = time.time() - start\n",
    "print(\"runtime: \" + str(runtime))\n",
    "ll = compute_loglik(X,A,W)\n",
    "print(\"mean poisson ll: \" + str(ll[\"poisson_ll\"]))"
   ]
  },
  {
   "cell_type": "code",
   "execution_count": null,
   "metadata": {},
   "outputs": [],
   "source": []
  }
 ],
 "metadata": {
  "kernelspec": {
   "display_name": "Python 3",
   "language": "python",
   "name": "python3"
  },
  "language_info": {
   "codemirror_mode": {
    "name": "ipython",
    "version": 3
   },
   "file_extension": ".py",
   "mimetype": "text/x-python",
   "name": "python",
   "nbconvert_exporter": "python",
   "pygments_lexer": "ipython3",
   "version": "3.6.4"
  }
 },
 "nbformat": 4,
 "nbformat_minor": 2
}
