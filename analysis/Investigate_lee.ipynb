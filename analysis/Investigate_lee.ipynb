{
 "cells": [
  {
   "cell_type": "markdown",
   "metadata": {},
   "source": [
    "## Goal\n",
    "It is suprising that \"maxdiff\" of lee's multiplicative method implemented in matlab \"betanmf\" (for gneralized KL divergence) is huge (around $10^{20}$). So it is far from converging. Is is possible that it is just some crazy entry that is hard to fit, or ...?"
   ]
  },
  {
   "cell_type": "markdown",
   "metadata": {},
   "source": [
    "## Investigation\n",
    "* So I run the method on `GTEx-sim` from the beginning for 10 iterations from `nnlm` (initialized using rough fit), and record the largest 100 entries of $|\\Delta A|,|\\Delta B|$ during iteration (in this case $F = A$, $L = B'$; note that $A$ is updated before $B$) for betanmf. \n",
    "\n",
    "The result is surprisng: after the second iteration $|\\Delta A| \\approx 0,|\\Delta B| \\approx 10^{21}$ !\n",
    "\n",
    "* Then I wonder if this behavior happens to betanmf for Frobenius norm. So I implement it (very easily) and do the same thing. Then result is $|\\Delta A| < 1,|\\Delta B| > 10^{3}$\n",
    "\n",
    "* The big difference between changes in $A,B$ is not observed when applying to very simple and small dataset (of the same scale)."
   ]
  },
  {
   "cell_type": "markdown",
   "metadata": {},
   "source": [
    "## Possible reason\n",
    "Initialization? \n",
    "\n",
    "## Further investigation\n",
    "Is it possible that those changes happen only in a few samples/features?\n"
   ]
  },
  {
   "cell_type": "code",
   "execution_count": 1,
   "metadata": {},
   "outputs": [],
   "source": [
    "dF = read.csv(\"../../topics-simulation-bigdata/output/gtex_simulation_fdiff_betanmf.csv\", header = F)\n",
    "dL = read.csv(\"../../topics-simulation-bigdata/output/gtex_simulation_ldiff_betanmf.csv\", header = F)"
   ]
  },
  {
   "cell_type": "code",
   "execution_count": 2,
   "metadata": {},
   "outputs": [
    {
     "name": "stdout",
     "output_type": "stream",
     "text": [
      "[1] \"the changes of the 100th largest in Factor in poisson model\"\n"
     ]
    },
    {
     "data": {
      "text/html": [
       "<ol class=list-inline>\n",
       "\t<li>1.5524e+20</li>\n",
       "\t<li>2.8322e+19</li>\n",
       "\t<li>2.0935e+19</li>\n",
       "\t<li>1.5757e+19</li>\n",
       "\t<li>1.1348e+19</li>\n",
       "\t<li>9.1657e+18</li>\n",
       "\t<li>7.79e+18</li>\n",
       "\t<li>6.2488e+18</li>\n",
       "\t<li>4.9545e+18</li>\n",
       "\t<li>3.9844e+18</li>\n",
       "</ol>\n"
      ],
      "text/latex": [
       "\\begin{enumerate*}\n",
       "\\item 1.5524e+20\n",
       "\\item 2.8322e+19\n",
       "\\item 2.0935e+19\n",
       "\\item 1.5757e+19\n",
       "\\item 1.1348e+19\n",
       "\\item 9.1657e+18\n",
       "\\item 7.79e+18\n",
       "\\item 6.2488e+18\n",
       "\\item 4.9545e+18\n",
       "\\item 3.9844e+18\n",
       "\\end{enumerate*}\n"
      ],
      "text/markdown": [
       "1. 1.5524e+20\n",
       "2. 2.8322e+19\n",
       "3. 2.0935e+19\n",
       "4. 1.5757e+19\n",
       "5. 1.1348e+19\n",
       "6. 9.1657e+18\n",
       "7. 7.79e+18\n",
       "8. 6.2488e+18\n",
       "9. 4.9545e+18\n",
       "10. 3.9844e+18\n",
       "\n",
       "\n"
      ],
      "text/plain": [
       " [1] 1.5524e+20 2.8322e+19 2.0935e+19 1.5757e+19 1.1348e+19 9.1657e+18\n",
       " [7] 7.7900e+18 6.2488e+18 4.9545e+18 3.9844e+18"
      ]
     },
     "metadata": {},
     "output_type": "display_data"
    }
   ],
   "source": [
    "print(\"the changes of the 100th largest in Factor in poisson model\")\n",
    "dF[,100]"
   ]
  },
  {
   "cell_type": "code",
   "execution_count": 3,
   "metadata": {},
   "outputs": [
    {
     "name": "stdout",
     "output_type": "stream",
     "text": [
      "[1] \"the changes of the largest in Loading in poisson model\"\n"
     ]
    },
    {
     "data": {
      "text/html": [
       "<ol class=list-inline>\n",
       "\t<li>732930</li>\n",
       "\t<li>8.1602e-15</li>\n",
       "\t<li>1.0299e-14</li>\n",
       "\t<li>1.1143e-14</li>\n",
       "\t<li>1.0816e-14</li>\n",
       "\t<li>1.0004e-14</li>\n",
       "\t<li>9.0732e-15</li>\n",
       "\t<li>8.2309e-15</li>\n",
       "\t<li>7.5283e-15</li>\n",
       "\t<li>6.955e-15</li>\n",
       "</ol>\n"
      ],
      "text/latex": [
       "\\begin{enumerate*}\n",
       "\\item 732930\n",
       "\\item 8.1602e-15\n",
       "\\item 1.0299e-14\n",
       "\\item 1.1143e-14\n",
       "\\item 1.0816e-14\n",
       "\\item 1.0004e-14\n",
       "\\item 9.0732e-15\n",
       "\\item 8.2309e-15\n",
       "\\item 7.5283e-15\n",
       "\\item 6.955e-15\n",
       "\\end{enumerate*}\n"
      ],
      "text/markdown": [
       "1. 732930\n",
       "2. 8.1602e-15\n",
       "3. 1.0299e-14\n",
       "4. 1.1143e-14\n",
       "5. 1.0816e-14\n",
       "6. 1.0004e-14\n",
       "7. 9.0732e-15\n",
       "8. 8.2309e-15\n",
       "9. 7.5283e-15\n",
       "10. 6.955e-15\n",
       "\n",
       "\n"
      ],
      "text/plain": [
       " [1] 7.3293e+05 8.1602e-15 1.0299e-14 1.1143e-14 1.0816e-14 1.0004e-14\n",
       " [7] 9.0732e-15 8.2309e-15 7.5283e-15 6.9550e-15"
      ]
     },
     "metadata": {},
     "output_type": "display_data"
    }
   ],
   "source": [
    "print(\"the changes of the largest in Loading in poisson model\")\n",
    "dL[,1]"
   ]
  },
  {
   "cell_type": "code",
   "execution_count": 4,
   "metadata": {},
   "outputs": [],
   "source": [
    "dF_F = read.csv(\"../../topics-simulation-bigdata/output/gtex_simulation_fdiff_betanmf_F.csv\", header = F)\n",
    "dL_F = read.csv(\"../../topics-simulation-bigdata/output/gtex_simulation_ldiff_betanmf_F.csv\", header = F)"
   ]
  },
  {
   "cell_type": "code",
   "execution_count": 5,
   "metadata": {},
   "outputs": [
    {
     "name": "stdout",
     "output_type": "stream",
     "text": [
      "[1] \"the changes of the largest in Factor in normal model\"\n"
     ]
    },
    {
     "data": {
      "text/html": [
       "<ol class=list-inline>\n",
       "\t<li>38.931</li>\n",
       "\t<li>13.757</li>\n",
       "\t<li>4.315</li>\n",
       "\t<li>1.0736</li>\n",
       "\t<li>0.40841</li>\n",
       "\t<li>0.38128</li>\n",
       "\t<li>0.35791</li>\n",
       "\t<li>0.33802</li>\n",
       "\t<li>0.32084</li>\n",
       "\t<li>0.30548</li>\n",
       "</ol>\n"
      ],
      "text/latex": [
       "\\begin{enumerate*}\n",
       "\\item 38.931\n",
       "\\item 13.757\n",
       "\\item 4.315\n",
       "\\item 1.0736\n",
       "\\item 0.40841\n",
       "\\item 0.38128\n",
       "\\item 0.35791\n",
       "\\item 0.33802\n",
       "\\item 0.32084\n",
       "\\item 0.30548\n",
       "\\end{enumerate*}\n"
      ],
      "text/markdown": [
       "1. 38.931\n",
       "2. 13.757\n",
       "3. 4.315\n",
       "4. 1.0736\n",
       "5. 0.40841\n",
       "6. 0.38128\n",
       "7. 0.35791\n",
       "8. 0.33802\n",
       "9. 0.32084\n",
       "10. 0.30548\n",
       "\n",
       "\n"
      ],
      "text/plain": [
       " [1] 38.93100 13.75700  4.31500  1.07360  0.40841  0.38128  0.35791  0.33802\n",
       " [9]  0.32084  0.30548"
      ]
     },
     "metadata": {},
     "output_type": "display_data"
    }
   ],
   "source": [
    "print(\"the changes of the largest in Factor in normal model\")\n",
    "dF_F[,1]"
   ]
  },
  {
   "cell_type": "code",
   "execution_count": 6,
   "metadata": {},
   "outputs": [
    {
     "name": "stdout",
     "output_type": "stream",
     "text": [
      "[1] \"the changes of the 100th largest in Factor in normal model\"\n"
     ]
    },
    {
     "data": {
      "text/html": [
       "<ol class=list-inline>\n",
       "\t<li>130190</li>\n",
       "\t<li>85552</li>\n",
       "\t<li>16201</li>\n",
       "\t<li>5459.4</li>\n",
       "\t<li>4300.5</li>\n",
       "\t<li>3953.6</li>\n",
       "\t<li>3433.8</li>\n",
       "\t<li>3104.1</li>\n",
       "\t<li>2774.3</li>\n",
       "\t<li>2490.5</li>\n",
       "</ol>\n"
      ],
      "text/latex": [
       "\\begin{enumerate*}\n",
       "\\item 130190\n",
       "\\item 85552\n",
       "\\item 16201\n",
       "\\item 5459.4\n",
       "\\item 4300.5\n",
       "\\item 3953.6\n",
       "\\item 3433.8\n",
       "\\item 3104.1\n",
       "\\item 2774.3\n",
       "\\item 2490.5\n",
       "\\end{enumerate*}\n"
      ],
      "text/markdown": [
       "1. 130190\n",
       "2. 85552\n",
       "3. 16201\n",
       "4. 5459.4\n",
       "5. 4300.5\n",
       "6. 3953.6\n",
       "7. 3433.8\n",
       "8. 3104.1\n",
       "9. 2774.3\n",
       "10. 2490.5\n",
       "\n",
       "\n"
      ],
      "text/plain": [
       " [1] 130190.0  85552.0  16201.0   5459.4   4300.5   3953.6   3433.8   3104.1\n",
       " [9]   2774.3   2490.5"
      ]
     },
     "metadata": {},
     "output_type": "display_data"
    }
   ],
   "source": [
    "print(\"the changes of the 100th largest in Factor in normal model\")\n",
    "dL_F[,100]"
   ]
  }
 ],
 "metadata": {
  "kernelspec": {
   "display_name": "R",
   "language": "R",
   "name": "ir"
  },
  "language_info": {
   "codemirror_mode": "r",
   "file_extension": ".r",
   "mimetype": "text/x-r-source",
   "name": "R",
   "pygments_lexer": "r",
   "version": "3.5.1"
  }
 },
 "nbformat": 4,
 "nbformat_minor": 2
}
