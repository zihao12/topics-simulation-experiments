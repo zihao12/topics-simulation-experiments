{
 "cells": [
  {
   "cell_type": "code",
   "execution_count": null,
   "metadata": {},
   "outputs": [],
   "source": [
    "## read data"
   ]
  },
  {
   "cell_type": "code",
   "execution_count": 7,
   "metadata": {},
   "outputs": [],
   "source": [
    "library(readr)\n",
    "library(NNLM)\n",
    "source(file.path(\"..\",\"code\",\"misc.R\"))\n",
    "source(file.path(\"..\",\"code\",\"utility.R\")) ## need to fix the small bug in utility R (colSum(A%*%W) <2)"
   ]
  },
  {
   "cell_type": "code",
   "execution_count": 8,
   "metadata": {},
   "outputs": [
    {
     "name": "stdout",
     "output_type": "stream",
     "text": [
      "   user  system elapsed \n",
      "215.016  22.698 237.843 \n"
     ]
    }
   ],
   "source": [
    "data.dir <- file.path(\"../../topics-simulation-bigdata\",\"output\")\n",
    "read.counts.file   <- \"gtex_simulation_nnlm.csv\"\n",
    "read.counts.file <- file.path(data.dir,read.counts.file)\n",
    "start = proc.time()\n",
    "counts <- read.csv.matrix(read.counts.file)\n",
    "print(proc.time() - start)"
   ]
  },
  {
   "cell_type": "code",
   "execution_count": 15,
   "metadata": {},
   "outputs": [
    {
     "name": "stdout",
     "output_type": "stream",
     "text": [
      "   user  system elapsed \n",
      "212.683  27.573 240.512 \n"
     ]
    }
   ],
   "source": [
    "data.dir <- file.path(\"../../topics_bigdata/\",\"output\")\n",
    "read.counts.file   <- \"gtex.csv\"\n",
    "read.counts.file <- file.path(data.dir,read.counts.file)\n",
    "start = proc.time()\n",
    "real_counts <- read.csv.matrix(read.counts.file)\n",
    "print(proc.time() - start)"
   ]
  },
  {
   "cell_type": "code",
   "execution_count": 16,
   "metadata": {},
   "outputs": [
    {
     "name": "stdout",
     "output_type": "stream",
     "text": [
      "[1] \"load data\"\n",
      "[1] \"compute ll\"\n"
     ]
    },
    {
     "data": {
      "text/html": [
       "<dl>\n",
       "\t<dt>$type</dt>\n",
       "\t\t<dd>'poisson'</dd>\n",
       "\t<dt>$multinom_ll</dt>\n",
       "\t\t<dd>-5527555982054.79</dd>\n",
       "\t<dt>$pois_ll</dt>\n",
       "\t\t<dd>-115.584061399643</dd>\n",
       "</dl>\n"
      ],
      "text/latex": [
       "\\begin{description}\n",
       "\\item[\\$type] 'poisson'\n",
       "\\item[\\$multinom\\_ll] -5527555982054.79\n",
       "\\item[\\$pois\\_ll] -115.584061399643\n",
       "\\end{description}\n"
      ],
      "text/markdown": [
       "$type\n",
       ":   'poisson'\n",
       "$multinom_ll\n",
       ":   -5527555982054.79\n",
       "$pois_ll\n",
       ":   -115.584061399643\n",
       "\n",
       "\n"
      ],
      "text/plain": [
       "$type\n",
       "[1] \"poisson\"\n",
       "\n",
       "$multinom_ll\n",
       "[1] -5.527556e+12\n",
       "\n",
       "$pois_ll\n",
       "[1] -115.5841\n"
      ]
     },
     "metadata": {},
     "output_type": "display_data"
    }
   ],
   "source": [
    "name = \"nnmf\"\n",
    "data.dir <- file.path(\"../../topics-simulation-bigdata\",\"output\")\n",
    "loadings.file = paste0(\"gtex_loadings_\", name, \".csv.gz\")\n",
    "factors.file = paste0(\"gtex_factors_\", name, \".csv.gz\")\n",
    "\n",
    "factors.file  <- file.path(data.dir,factors.file)\n",
    "loadings.file <- file.path(data.dir,loadings.file)\n",
    "print(\"load data\")\n",
    "F <- read.csv.matrix(factors.file)\n",
    "L <- read.csv.matrix(loadings.file)\n",
    "print(\"compute ll\")\n",
    "out = compute_ll(t(real_counts),F,t(L))\n",
    "out"
   ]
  },
  {
   "cell_type": "code",
   "execution_count": 14,
   "metadata": {},
   "outputs": [
    {
     "name": "stdout",
     "output_type": "stream",
     "text": [
      "[1] \"load data\"\n",
      "[1] \"compute ll\"\n"
     ]
    },
    {
     "data": {
      "text/html": [
       "<dl>\n",
       "\t<dt>$type</dt>\n",
       "\t\t<dd>'poisson'</dd>\n",
       "\t<dt>$multinom_ll</dt>\n",
       "\t\t<dd>-5535274871489.8</dd>\n",
       "\t<dt>$pois_ll</dt>\n",
       "\t\t<dd>-2.10891015421199</dd>\n",
       "</dl>\n"
      ],
      "text/latex": [
       "\\begin{description}\n",
       "\\item[\\$type] 'poisson'\n",
       "\\item[\\$multinom\\_ll] -5535274871489.8\n",
       "\\item[\\$pois\\_ll] -2.10891015421199\n",
       "\\end{description}\n"
      ],
      "text/markdown": [
       "$type\n",
       ":   'poisson'\n",
       "$multinom_ll\n",
       ":   -5535274871489.8\n",
       "$pois_ll\n",
       ":   -2.10891015421199\n",
       "\n",
       "\n"
      ],
      "text/plain": [
       "$type\n",
       "[1] \"poisson\"\n",
       "\n",
       "$multinom_ll\n",
       "[1] -5.535275e+12\n",
       "\n",
       "$pois_ll\n",
       "[1] -2.10891\n"
      ]
     },
     "metadata": {},
     "output_type": "display_data"
    }
   ],
   "source": [
    "name = \"nnmf\"\n",
    "data.dir <- file.path(\"../../topics-simulation-bigdata\",\"output\")\n",
    "loadings.file = paste0(\"gtex_loadings_\", name, \".csv.gz\")\n",
    "factors.file = paste0(\"gtex_factors_\", name, \".csv.gz\")\n",
    "\n",
    "\n",
    "factors.file  <- file.path(data.dir,factors.file)\n",
    "loadings.file <- file.path(data.dir,loadings.file)\n",
    "print(\"load data\")\n",
    "F <- read.csv.matrix(factors.file)\n",
    "L <- read.csv.matrix(loadings.file)\n",
    "print(\"compute ll\")\n",
    "out = compute_ll(t(counts),F,t(L))\n",
    "out"
   ]
  },
  {
   "cell_type": "code",
   "execution_count": 12,
   "metadata": {},
   "outputs": [
    {
     "name": "stdout",
     "output_type": "stream",
     "text": [
      "[1] \"load data\"\n",
      "[1] \"compute ll\"\n"
     ]
    },
    {
     "data": {
      "text/html": [
       "<dl>\n",
       "\t<dt>$type</dt>\n",
       "\t\t<dd>'multinom'</dd>\n",
       "\t<dt>$multinom_ll</dt>\n",
       "\t\t<dd>-5535547915113.88</dd>\n",
       "\t<dt>$pois_ll</dt>\n",
       "\t\t<dd>-2.52708532492857</dd>\n",
       "</dl>\n"
      ],
      "text/latex": [
       "\\begin{description}\n",
       "\\item[\\$type] 'multinom'\n",
       "\\item[\\$multinom\\_ll] -5535547915113.88\n",
       "\\item[\\$pois\\_ll] -2.52708532492857\n",
       "\\end{description}\n"
      ],
      "text/markdown": [
       "$type\n",
       ":   'multinom'\n",
       "$multinom_ll\n",
       ":   -5535547915113.88\n",
       "$pois_ll\n",
       ":   -2.52708532492857\n",
       "\n",
       "\n"
      ],
      "text/plain": [
       "$type\n",
       "[1] \"multinom\"\n",
       "\n",
       "$multinom_ll\n",
       "[1] -5.535548e+12\n",
       "\n",
       "$pois_ll\n",
       "[1] -2.527085\n"
      ]
     },
     "metadata": {},
     "output_type": "display_data"
    }
   ],
   "source": [
    "name = \"maptpx\"\n",
    "data.dir <- file.path(\"../../topics-simulation-bigdata\",\"output\")\n",
    "loadings.file = paste0(\"gtex_simulation_loadings_\", name, \".csv\")\n",
    "factors.file = paste0(\"gtex_simulation_factors_\", name, \".csv\")\n",
    "\n",
    "\n",
    "factors.file  <- file.path(data.dir,factors.file)\n",
    "loadings.file <- file.path(data.dir,loadings.file)\n",
    "print(\"load data\")\n",
    "F <- read.csv.matrix(factors.file)\n",
    "L <- read.csv.matrix(loadings.file)\n",
    "print(\"compute ll\")\n",
    "out = compute_ll(t(counts),F,t(L))\n",
    "out"
   ]
  },
  {
   "cell_type": "code",
   "execution_count": null,
   "metadata": {},
   "outputs": [],
   "source": []
  },
  {
   "cell_type": "code",
   "execution_count": null,
   "metadata": {},
   "outputs": [],
   "source": [
    "ll <- function(X, name){\n",
    "    data.dir           <- file.path(\"../../topics-simulation-bigdata\",\"output\")\n",
    "    loadings.file = paste0(\"gtex_simulation_loadings_\", name, \".csv\")\n",
    "    factors.file = paste0(\"gtex_simulation_factors_\", name, \".csv\")\n",
    "    \n",
    "    factors.file  <- file.path(data.dir,factors.file)\n",
    "    loadings.file <- file.path(data.dir,loadings.file)\n",
    "    F <- read.csv.matrix(factors.file)\n",
    "    L <- read.csv.matrix(loadings.file)\n",
    "    out = compute_ll(X,F,t(L))\n",
    "    return(out)\n",
    "}"
   ]
  },
  {
   "cell_type": "code",
   "execution_count": 3,
   "metadata": {},
   "outputs": [
    {
     "data": {
      "text/html": [
       "'fit_gtex_simulation_maptpx.Rout'"
      ],
      "text/latex": [
       "'fit\\_gtex\\_simulation\\_maptpx.Rout'"
      ],
      "text/markdown": [
       "'fit_gtex_simulation_maptpx.Rout'"
      ],
      "text/plain": [
       "[1] \"fit_gtex_simulation_maptpx.Rout\""
      ]
     },
     "metadata": {},
     "output_type": "display_data"
    }
   ],
   "source": [
    "name = \"maptpx.R\"\n",
    "paste0(\"fit_gtex_simulation_\", name, \"out\")"
   ]
  },
  {
   "cell_type": "code",
   "execution_count": null,
   "metadata": {},
   "outputs": [],
   "source": []
  }
 ],
 "metadata": {
  "kernelspec": {
   "display_name": "R",
   "language": "R",
   "name": "ir"
  },
  "language_info": {
   "codemirror_mode": "r",
   "file_extension": ".r",
   "mimetype": "text/x-r-source",
   "name": "R",
   "pygments_lexer": "r",
   "version": "3.5.1"
  }
 },
 "nbformat": 4,
 "nbformat_minor": 2
}
